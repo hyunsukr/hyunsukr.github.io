{
 "cells": [
  {
   "cell_type": "markdown",
   "metadata": {
    "colab_type": "text",
    "id": "MIvgjSZuDOdE"
   },
   "source": [
    "# Assignment 2: Spam Classification with SVM"
   ]
  },
  {
   "cell_type": "markdown",
   "metadata": {
    "colab_type": "text",
    "id": "BFMzEfKaDOdI"
   },
   "source": [
    "### CS 4501 Machine Learning - Department of Computer Science - University of Virginia\n",
    "\n",
    "![Spam email](https://www.saleshandy.com/blog/wp-content/uploads/2017/01/wsi-imageoptim-11-Reasons-Why-Your-Email-Ends-Up-In-Spam.png)\n",
    "\n",
    "*Many email services today provide spam filters that are able to classify emails into spam and non-spam email with high accuracy. In this part of the assignment, you will use SVMs to build your own spam filter. For references, you may refer to my [lecture 6](https://drive.google.com/open?id=1CeBhepjDKBaFBq2BZq-zNQs-MC8ll7aL4qAF8TJ24FM) and [lecture 6b](https://drive.google.com/open?id=13BidUAs_c2QdZkf92axt2S748sbnbI9Hgxg-fzb-OuU) or Chapter 5 of the textbook if you need additional sample codes to help with your assignment. For deliverables, you must write code in Python and submit **this** Jupyter Notebook file (.ipynb) to earn a total of 100 pts. You will gain points depending on how you perform in the following sections.*\n"
   ]
  },
  {
   "cell_type": "markdown",
   "metadata": {
    "colab_type": "text",
    "id": "BOOW2renDOdK"
   },
   "source": [
    "---\n",
    "## 1. PRE-PROCESSING THE DATA (20 pts)\n",
    "\n",
    "**Data Acquiring:** Download the spam dataset from UC Irvine. You can find the dataset attached with the assignment in Collab. Note that the data is in raw file, so you have to convert them into a readable format (ie. CSV). Please be sure to read its documentation to learn more about the dataset. \n",
    "\n",
    "**Data Splitting:** Put data into the format needed for classification task, then split it into 80% training, 20% testing (each should have approximately the same proportion between positive and negative examples).\n",
    "\n",
    "**Data Discovery:** Plot out all correlations among the features. You may notice some features are more correlated with your predicted value than other. This information will help you confirm that weights of your SVM model later on.\n",
    "\n",
    "**Data Cleaning:** If your dataset has some missing values, make sure you are able to fill those values with the Imputer class. \n",
    "\n",
    "**Feature Scaling** You can use the standard library StandardScaler to normalize the value of each features."
   ]
  },
  {
   "cell_type": "code",
   "execution_count": 59,
   "metadata": {
    "colab": {},
    "colab_type": "code",
    "id": "BEWXgTDQDOdN"
   },
   "outputs": [
    {
     "name": "stdout",
     "output_type": "stream",
     "text": [
      "3680 X_train + 921 X_test\n",
      "3680 Y_train + 921 Y_test\n"
     ]
    }
   ],
   "source": [
    "# You might want to use the following packages\n",
    "from sklearn.model_selection import train_test_split\n",
    "from pandas.plotting import scatter_matrix # optional\n",
    "from sklearn.preprocessing import Imputer\n",
    "from sklearn.preprocessing import LabelEncoder\n",
    "from sklearn.preprocessing import OneHotEncoder\n",
    "from sklearn.pipeline import Pipeline\n",
    "from sklearn.preprocessing import StandardScaler\n",
    "\n",
    "import os\n",
    "import pandas as pd\n",
    "import numpy as np\n",
    "\n",
    "\n",
    "#################\n",
    "# DATA ACQUIRING#\n",
    "#################\n",
    "\n",
    "# def load_spam_data(path):\n",
    "#     csv_path = os.path.join(path)\n",
    "#     return pd.read_csv(csv_path)\n",
    "\n",
    "# spam_data = load_spam_data(\"spambase.data.csv\")\n",
    "# spam_col = load_spam_data(\"spambase.columns.csv\")\n",
    "spam_data = pd.read_csv(\"spambase.data.csv\", header = None)\n",
    "spam_col = pd.read_csv(\"spambase.columns.csv\", header = None)\n",
    "spam_col.drop(spam_col.columns[1], axis = 1, inplace=True)  # Drops the extra column that just have null values\n",
    "\n",
    "X_labels = spam_col[0].values.tolist()    # Grabs the features... Does not contain \"label\" of whether spam or not\n",
    "spam_col.loc[len(spam_col)]=['label']     # Adds the \"label\"... necessary for the below step\n",
    "spam_data = spam_data.rename(columns=spam_col[0]) # Combines the data dataset and the column of features dataset\n",
    "\n",
    "#################\n",
    "# DATA SPLITTING#\n",
    "#################\n",
    "X = spam_data[X_labels]\n",
    "Y = spam_data[[\"label\"]]\n",
    "X_train_pre, X_test_pre, Y_train, Y_test = train_test_split(X,Y, random_state=1, test_size=0.2) # 80-20 Train-Test split\n",
    "print(len(X_train_pre), \"X_train +\", len(X_test_pre), \"X_test\")\n",
    "print(len(Y_train), \"Y_train +\", len(Y_test), \"Y_test\")\n",
    "\n",
    "# Your code goes here for this section.\n",
    "X_train = [];\n",
    "y_train = [];\n",
    "X_test = [];\n",
    "y_test = [];"
   ]
  },
  {
   "cell_type": "code",
   "execution_count": 60,
   "metadata": {},
   "outputs": [
    {
     "name": "stdout",
     "output_type": "stream",
     "text": [
      "<class 'pandas.core.frame.DataFrame'>\n",
      "RangeIndex: 4601 entries, 0 to 4600\n",
      "Data columns (total 58 columns):\n",
      "word_freq_make                4601 non-null float64\n",
      "word_freq_address             4601 non-null float64\n",
      "word_freq_all                 4601 non-null float64\n",
      "word_freq_3d                  4601 non-null float64\n",
      "word_freq_our                 4601 non-null float64\n",
      "word_freq_over                4601 non-null float64\n",
      "word_freq_remove              4601 non-null float64\n",
      "word_freq_internet            4601 non-null float64\n",
      "word_freq_order               4601 non-null float64\n",
      "word_freq_mail                4601 non-null float64\n",
      "word_freq_receive             4601 non-null float64\n",
      "word_freq_will                4601 non-null float64\n",
      "word_freq_people              4601 non-null float64\n",
      "word_freq_report              4601 non-null float64\n",
      "word_freq_addresses           4601 non-null float64\n",
      "word_freq_free                4601 non-null float64\n",
      "word_freq_business            4601 non-null float64\n",
      "word_freq_email               4601 non-null float64\n",
      "word_freq_you                 4601 non-null float64\n",
      "word_freq_credit              4601 non-null float64\n",
      "word_freq_your                4601 non-null float64\n",
      "word_freq_font                4601 non-null float64\n",
      "word_freq_000                 4601 non-null float64\n",
      "word_freq_money               4601 non-null float64\n",
      "word_freq_hp                  4601 non-null float64\n",
      "word_freq_hpl                 4601 non-null float64\n",
      "word_freq_george              4601 non-null float64\n",
      "word_freq_650                 4601 non-null float64\n",
      "word_freq_lab                 4601 non-null float64\n",
      "word_freq_labs                4601 non-null float64\n",
      "word_freq_telnet              4601 non-null float64\n",
      "word_freq_857                 4601 non-null float64\n",
      "word_freq_data                4601 non-null float64\n",
      "word_freq_415                 4601 non-null float64\n",
      "word_freq_85                  4601 non-null float64\n",
      "word_freq_technology          4601 non-null float64\n",
      "word_freq_1999                4601 non-null float64\n",
      "word_freq_parts               4601 non-null float64\n",
      "word_freq_pm                  4601 non-null float64\n",
      "word_freq_direct              4601 non-null float64\n",
      "word_freq_cs                  4601 non-null float64\n",
      "word_freq_meeting             4601 non-null float64\n",
      "word_freq_original            4601 non-null float64\n",
      "word_freq_project             4601 non-null float64\n",
      "word_freq_re                  4601 non-null float64\n",
      "word_freq_edu                 4601 non-null float64\n",
      "word_freq_table               4601 non-null float64\n",
      "word_freq_conference          4601 non-null float64\n",
      "char_freq_;                   4601 non-null float64\n",
      "char_freq_(                   4601 non-null float64\n",
      "char_freq_[                   4601 non-null float64\n",
      "char_freq_!                   4601 non-null float64\n",
      "char_freq_$                   4601 non-null float64\n",
      "char_freq_#                   4601 non-null float64\n",
      "capital_run_length_average    4601 non-null float64\n",
      "capital_run_length_longest    4601 non-null int64\n",
      "capital_run_length_total      4601 non-null int64\n",
      "label                         4601 non-null int64\n",
      "dtypes: float64(55), int64(3)\n",
      "memory usage: 2.0 MB\n"
     ]
    }
   ],
   "source": [
    "spam_data.info()"
   ]
  },
  {
   "cell_type": "code",
   "execution_count": 61,
   "metadata": {},
   "outputs": [
    {
     "data": {
      "text/plain": [
       "1.000     349\n",
       "2.000      79\n",
       "1.800      55\n",
       "1.500      37\n",
       "1.666      36\n",
       "1.250      27\n",
       "1.333      25\n",
       "2.333      25\n",
       "3.000      24\n",
       "3.333      22\n",
       "1.428      19\n",
       "1.750      19\n",
       "1.166      18\n",
       "1.600      18\n",
       "2.500      17\n",
       "4.000      16\n",
       "1.285      15\n",
       "2.166      15\n",
       "1.300      15\n",
       "2.666      14\n",
       "1.494      14\n",
       "1.200      13\n",
       "1.400      13\n",
       "1.857      13\n",
       "2.250      13\n",
       "1.714      13\n",
       "2.125      12\n",
       "1.142      12\n",
       "8.550      12\n",
       "1.125      12\n",
       "         ... \n",
       "1.414       1\n",
       "3.212       1\n",
       "3.242       1\n",
       "6.601       1\n",
       "25.220      1\n",
       "44.720      1\n",
       "3.764       1\n",
       "1.283       1\n",
       "1.744       1\n",
       "2.303       1\n",
       "2.220       1\n",
       "2.013       1\n",
       "1.779       1\n",
       "4.829       1\n",
       "3.971       1\n",
       "2.982       1\n",
       "3.682       1\n",
       "2.073       1\n",
       "5.403       1\n",
       "8.733       1\n",
       "3.353       1\n",
       "1.773       1\n",
       "1.035       1\n",
       "2.211       1\n",
       "1.226       1\n",
       "26.405      1\n",
       "7.857       1\n",
       "1.502       1\n",
       "86.700      1\n",
       "2.620       1\n",
       "Name: capital_run_length_average, Length: 2161, dtype: int64"
      ]
     },
     "execution_count": 61,
     "metadata": {},
     "output_type": "execute_result"
    }
   ],
   "source": [
    "spam_data['capital_run_length_average'].value_counts()"
   ]
  },
  {
   "cell_type": "code",
   "execution_count": 62,
   "metadata": {},
   "outputs": [
    {
     "data": {
      "text/html": [
       "<div>\n",
       "<style scoped>\n",
       "    .dataframe tbody tr th:only-of-type {\n",
       "        vertical-align: middle;\n",
       "    }\n",
       "\n",
       "    .dataframe tbody tr th {\n",
       "        vertical-align: top;\n",
       "    }\n",
       "\n",
       "    .dataframe thead th {\n",
       "        text-align: right;\n",
       "    }\n",
       "</style>\n",
       "<table border=\"1\" class=\"dataframe\">\n",
       "  <thead>\n",
       "    <tr style=\"text-align: right;\">\n",
       "      <th></th>\n",
       "      <th>word_freq_make</th>\n",
       "      <th>word_freq_address</th>\n",
       "      <th>word_freq_all</th>\n",
       "      <th>word_freq_3d</th>\n",
       "      <th>word_freq_our</th>\n",
       "      <th>word_freq_over</th>\n",
       "      <th>word_freq_remove</th>\n",
       "      <th>word_freq_internet</th>\n",
       "      <th>word_freq_order</th>\n",
       "      <th>word_freq_mail</th>\n",
       "      <th>...</th>\n",
       "      <th>char_freq_;</th>\n",
       "      <th>char_freq_(</th>\n",
       "      <th>char_freq_[</th>\n",
       "      <th>char_freq_!</th>\n",
       "      <th>char_freq_$</th>\n",
       "      <th>char_freq_#</th>\n",
       "      <th>capital_run_length_average</th>\n",
       "      <th>capital_run_length_longest</th>\n",
       "      <th>capital_run_length_total</th>\n",
       "      <th>label</th>\n",
       "    </tr>\n",
       "  </thead>\n",
       "  <tbody>\n",
       "    <tr>\n",
       "      <th>count</th>\n",
       "      <td>4601.000000</td>\n",
       "      <td>4601.000000</td>\n",
       "      <td>4601.000000</td>\n",
       "      <td>4601.000000</td>\n",
       "      <td>4601.000000</td>\n",
       "      <td>4601.000000</td>\n",
       "      <td>4601.000000</td>\n",
       "      <td>4601.000000</td>\n",
       "      <td>4601.000000</td>\n",
       "      <td>4601.000000</td>\n",
       "      <td>...</td>\n",
       "      <td>4601.000000</td>\n",
       "      <td>4601.000000</td>\n",
       "      <td>4601.000000</td>\n",
       "      <td>4601.000000</td>\n",
       "      <td>4601.000000</td>\n",
       "      <td>4601.000000</td>\n",
       "      <td>4601.000000</td>\n",
       "      <td>4601.000000</td>\n",
       "      <td>4601.000000</td>\n",
       "      <td>4601.000000</td>\n",
       "    </tr>\n",
       "    <tr>\n",
       "      <th>mean</th>\n",
       "      <td>0.104553</td>\n",
       "      <td>0.213015</td>\n",
       "      <td>0.280656</td>\n",
       "      <td>0.065425</td>\n",
       "      <td>0.312223</td>\n",
       "      <td>0.095901</td>\n",
       "      <td>0.114208</td>\n",
       "      <td>0.105295</td>\n",
       "      <td>0.090067</td>\n",
       "      <td>0.239413</td>\n",
       "      <td>...</td>\n",
       "      <td>0.038575</td>\n",
       "      <td>0.139030</td>\n",
       "      <td>0.016976</td>\n",
       "      <td>0.269071</td>\n",
       "      <td>0.075811</td>\n",
       "      <td>0.044238</td>\n",
       "      <td>5.191515</td>\n",
       "      <td>52.172789</td>\n",
       "      <td>283.289285</td>\n",
       "      <td>0.394045</td>\n",
       "    </tr>\n",
       "    <tr>\n",
       "      <th>std</th>\n",
       "      <td>0.305358</td>\n",
       "      <td>1.290575</td>\n",
       "      <td>0.504143</td>\n",
       "      <td>1.395151</td>\n",
       "      <td>0.672513</td>\n",
       "      <td>0.273824</td>\n",
       "      <td>0.391441</td>\n",
       "      <td>0.401071</td>\n",
       "      <td>0.278616</td>\n",
       "      <td>0.644755</td>\n",
       "      <td>...</td>\n",
       "      <td>0.243471</td>\n",
       "      <td>0.270355</td>\n",
       "      <td>0.109394</td>\n",
       "      <td>0.815672</td>\n",
       "      <td>0.245882</td>\n",
       "      <td>0.429342</td>\n",
       "      <td>31.729449</td>\n",
       "      <td>194.891310</td>\n",
       "      <td>606.347851</td>\n",
       "      <td>0.488698</td>\n",
       "    </tr>\n",
       "    <tr>\n",
       "      <th>min</th>\n",
       "      <td>0.000000</td>\n",
       "      <td>0.000000</td>\n",
       "      <td>0.000000</td>\n",
       "      <td>0.000000</td>\n",
       "      <td>0.000000</td>\n",
       "      <td>0.000000</td>\n",
       "      <td>0.000000</td>\n",
       "      <td>0.000000</td>\n",
       "      <td>0.000000</td>\n",
       "      <td>0.000000</td>\n",
       "      <td>...</td>\n",
       "      <td>0.000000</td>\n",
       "      <td>0.000000</td>\n",
       "      <td>0.000000</td>\n",
       "      <td>0.000000</td>\n",
       "      <td>0.000000</td>\n",
       "      <td>0.000000</td>\n",
       "      <td>1.000000</td>\n",
       "      <td>1.000000</td>\n",
       "      <td>1.000000</td>\n",
       "      <td>0.000000</td>\n",
       "    </tr>\n",
       "    <tr>\n",
       "      <th>25%</th>\n",
       "      <td>0.000000</td>\n",
       "      <td>0.000000</td>\n",
       "      <td>0.000000</td>\n",
       "      <td>0.000000</td>\n",
       "      <td>0.000000</td>\n",
       "      <td>0.000000</td>\n",
       "      <td>0.000000</td>\n",
       "      <td>0.000000</td>\n",
       "      <td>0.000000</td>\n",
       "      <td>0.000000</td>\n",
       "      <td>...</td>\n",
       "      <td>0.000000</td>\n",
       "      <td>0.000000</td>\n",
       "      <td>0.000000</td>\n",
       "      <td>0.000000</td>\n",
       "      <td>0.000000</td>\n",
       "      <td>0.000000</td>\n",
       "      <td>1.588000</td>\n",
       "      <td>6.000000</td>\n",
       "      <td>35.000000</td>\n",
       "      <td>0.000000</td>\n",
       "    </tr>\n",
       "    <tr>\n",
       "      <th>50%</th>\n",
       "      <td>0.000000</td>\n",
       "      <td>0.000000</td>\n",
       "      <td>0.000000</td>\n",
       "      <td>0.000000</td>\n",
       "      <td>0.000000</td>\n",
       "      <td>0.000000</td>\n",
       "      <td>0.000000</td>\n",
       "      <td>0.000000</td>\n",
       "      <td>0.000000</td>\n",
       "      <td>0.000000</td>\n",
       "      <td>...</td>\n",
       "      <td>0.000000</td>\n",
       "      <td>0.065000</td>\n",
       "      <td>0.000000</td>\n",
       "      <td>0.000000</td>\n",
       "      <td>0.000000</td>\n",
       "      <td>0.000000</td>\n",
       "      <td>2.276000</td>\n",
       "      <td>15.000000</td>\n",
       "      <td>95.000000</td>\n",
       "      <td>0.000000</td>\n",
       "    </tr>\n",
       "    <tr>\n",
       "      <th>75%</th>\n",
       "      <td>0.000000</td>\n",
       "      <td>0.000000</td>\n",
       "      <td>0.420000</td>\n",
       "      <td>0.000000</td>\n",
       "      <td>0.380000</td>\n",
       "      <td>0.000000</td>\n",
       "      <td>0.000000</td>\n",
       "      <td>0.000000</td>\n",
       "      <td>0.000000</td>\n",
       "      <td>0.160000</td>\n",
       "      <td>...</td>\n",
       "      <td>0.000000</td>\n",
       "      <td>0.188000</td>\n",
       "      <td>0.000000</td>\n",
       "      <td>0.315000</td>\n",
       "      <td>0.052000</td>\n",
       "      <td>0.000000</td>\n",
       "      <td>3.706000</td>\n",
       "      <td>43.000000</td>\n",
       "      <td>266.000000</td>\n",
       "      <td>1.000000</td>\n",
       "    </tr>\n",
       "    <tr>\n",
       "      <th>max</th>\n",
       "      <td>4.540000</td>\n",
       "      <td>14.280000</td>\n",
       "      <td>5.100000</td>\n",
       "      <td>42.810000</td>\n",
       "      <td>10.000000</td>\n",
       "      <td>5.880000</td>\n",
       "      <td>7.270000</td>\n",
       "      <td>11.110000</td>\n",
       "      <td>5.260000</td>\n",
       "      <td>18.180000</td>\n",
       "      <td>...</td>\n",
       "      <td>4.385000</td>\n",
       "      <td>9.752000</td>\n",
       "      <td>4.081000</td>\n",
       "      <td>32.478000</td>\n",
       "      <td>6.003000</td>\n",
       "      <td>19.829000</td>\n",
       "      <td>1102.500000</td>\n",
       "      <td>9989.000000</td>\n",
       "      <td>15841.000000</td>\n",
       "      <td>1.000000</td>\n",
       "    </tr>\n",
       "  </tbody>\n",
       "</table>\n",
       "<p>8 rows × 58 columns</p>\n",
       "</div>"
      ],
      "text/plain": [
       "       word_freq_make  word_freq_address  word_freq_all  word_freq_3d  \\\n",
       "count     4601.000000        4601.000000    4601.000000   4601.000000   \n",
       "mean         0.104553           0.213015       0.280656      0.065425   \n",
       "std          0.305358           1.290575       0.504143      1.395151   \n",
       "min          0.000000           0.000000       0.000000      0.000000   \n",
       "25%          0.000000           0.000000       0.000000      0.000000   \n",
       "50%          0.000000           0.000000       0.000000      0.000000   \n",
       "75%          0.000000           0.000000       0.420000      0.000000   \n",
       "max          4.540000          14.280000       5.100000     42.810000   \n",
       "\n",
       "       word_freq_our  word_freq_over  word_freq_remove  word_freq_internet  \\\n",
       "count    4601.000000     4601.000000       4601.000000         4601.000000   \n",
       "mean        0.312223        0.095901          0.114208            0.105295   \n",
       "std         0.672513        0.273824          0.391441            0.401071   \n",
       "min         0.000000        0.000000          0.000000            0.000000   \n",
       "25%         0.000000        0.000000          0.000000            0.000000   \n",
       "50%         0.000000        0.000000          0.000000            0.000000   \n",
       "75%         0.380000        0.000000          0.000000            0.000000   \n",
       "max        10.000000        5.880000          7.270000           11.110000   \n",
       "\n",
       "       word_freq_order  word_freq_mail     ...       char_freq_;  char_freq_(  \\\n",
       "count      4601.000000     4601.000000     ...       4601.000000  4601.000000   \n",
       "mean          0.090067        0.239413     ...          0.038575     0.139030   \n",
       "std           0.278616        0.644755     ...          0.243471     0.270355   \n",
       "min           0.000000        0.000000     ...          0.000000     0.000000   \n",
       "25%           0.000000        0.000000     ...          0.000000     0.000000   \n",
       "50%           0.000000        0.000000     ...          0.000000     0.065000   \n",
       "75%           0.000000        0.160000     ...          0.000000     0.188000   \n",
       "max           5.260000       18.180000     ...          4.385000     9.752000   \n",
       "\n",
       "       char_freq_[  char_freq_!  char_freq_$  char_freq_#  \\\n",
       "count  4601.000000  4601.000000  4601.000000  4601.000000   \n",
       "mean      0.016976     0.269071     0.075811     0.044238   \n",
       "std       0.109394     0.815672     0.245882     0.429342   \n",
       "min       0.000000     0.000000     0.000000     0.000000   \n",
       "25%       0.000000     0.000000     0.000000     0.000000   \n",
       "50%       0.000000     0.000000     0.000000     0.000000   \n",
       "75%       0.000000     0.315000     0.052000     0.000000   \n",
       "max       4.081000    32.478000     6.003000    19.829000   \n",
       "\n",
       "       capital_run_length_average  capital_run_length_longest  \\\n",
       "count                 4601.000000                 4601.000000   \n",
       "mean                     5.191515                   52.172789   \n",
       "std                     31.729449                  194.891310   \n",
       "min                      1.000000                    1.000000   \n",
       "25%                      1.588000                    6.000000   \n",
       "50%                      2.276000                   15.000000   \n",
       "75%                      3.706000                   43.000000   \n",
       "max                   1102.500000                 9989.000000   \n",
       "\n",
       "       capital_run_length_total        label  \n",
       "count               4601.000000  4601.000000  \n",
       "mean                 283.289285     0.394045  \n",
       "std                  606.347851     0.488698  \n",
       "min                    1.000000     0.000000  \n",
       "25%                   35.000000     0.000000  \n",
       "50%                   95.000000     0.000000  \n",
       "75%                  266.000000     1.000000  \n",
       "max                15841.000000     1.000000  \n",
       "\n",
       "[8 rows x 58 columns]"
      ]
     },
     "execution_count": 62,
     "metadata": {},
     "output_type": "execute_result"
    }
   ],
   "source": [
    "spam_data.describe()"
   ]
  },
  {
   "cell_type": "code",
   "execution_count": 63,
   "metadata": {},
   "outputs": [
    {
     "data": {
      "image/png": "[encoded data removed]",
      "text/plain": [
       "<Figure size 1440x1080 with 64 Axes>"
      ]
     },
     "metadata": {
      "needs_background": "light"
     },
     "output_type": "display_data"
    }
   ],
   "source": [
    "%matplotlib inline\n",
    "import matplotlib.pyplot as plt\n",
    "spam_data.hist(bins=50, figsize=(20,15))\n",
    "plt.show()"
   ]
  },
  {
   "cell_type": "code",
   "execution_count": 64,
   "metadata": {},
   "outputs": [
    {
     "name": "stdout",
     "output_type": "stream",
     "text": [
      "                            word_freq_make  word_freq_address  word_freq_all  \\\n",
      "word_freq_make                    1.000000          -0.016759       0.065627   \n",
      "word_freq_address                -0.016759           1.000000      -0.033526   \n",
      "word_freq_all                     0.065627          -0.033526       1.000000   \n",
      "word_freq_3d                      0.013273          -0.006923      -0.020246   \n",
      "word_freq_our                     0.023119          -0.023760       0.077734   \n",
      "word_freq_over                    0.059674          -0.024840       0.087564   \n",
      "word_freq_remove                  0.007669           0.003918       0.036677   \n",
      "word_freq_internet               -0.003950          -0.016280       0.012003   \n",
      "word_freq_order                   0.106263          -0.003826       0.093786   \n",
      "word_freq_mail                    0.041198           0.032962       0.032075   \n",
      "word_freq_receive                 0.188459          -0.006864       0.048254   \n",
      "word_freq_will                    0.105801          -0.040398       0.083210   \n",
      "word_freq_people                  0.066438          -0.018858       0.047593   \n",
      "word_freq_report                  0.036780          -0.009206       0.008552   \n",
      "word_freq_addresses               0.028439           0.005330       0.122113   \n",
      "word_freq_free                    0.059386          -0.009117       0.063906   \n",
      "word_freq_business                0.081928          -0.018370       0.036262   \n",
      "word_freq_email                   0.053324           0.033500       0.121923   \n",
      "word_freq_you                     0.128243          -0.055476       0.139329   \n",
      "word_freq_credit                  0.021295          -0.015806       0.031111   \n",
      "word_freq_your                    0.197049          -0.018191       0.156651   \n",
      "word_freq_font                   -0.024349          -0.008850      -0.035681   \n",
      "word_freq_000                     0.134072          -0.020502       0.123671   \n",
      "word_freq_money                   0.188155           0.001984       0.041145   \n",
      "word_freq_hp                     -0.072504          -0.043483      -0.087924   \n",
      "word_freq_hpl                    -0.061686          -0.038211      -0.062459   \n",
      "word_freq_george                 -0.066424          -0.030307      -0.108886   \n",
      "word_freq_650                    -0.048680          -0.029221      -0.050648   \n",
      "word_freq_lab                    -0.041251          -0.021940      -0.057726   \n",
      "word_freq_labs                   -0.052799          -0.027508      -0.032547   \n",
      "word_freq_telnet                 -0.039066          -0.018097      -0.038927   \n",
      "word_freq_857                    -0.032058          -0.003326      -0.061870   \n",
      "word_freq_data                   -0.041014          -0.024903      -0.054759   \n",
      "word_freq_415                    -0.027690          -0.004303      -0.061706   \n",
      "word_freq_85                     -0.044954          -0.024058      -0.048335   \n",
      "word_freq_technology             -0.054673          -0.028198      -0.046504   \n",
      "word_freq_1999                   -0.057312          -0.024013      -0.067015   \n",
      "word_freq_parts                  -0.007960          -0.008922       0.032407   \n",
      "word_freq_pm                     -0.011134          -0.019124      -0.014809   \n",
      "word_freq_direct                 -0.036095          -0.014821      -0.047066   \n",
      "word_freq_cs                     -0.009703          -0.015420      -0.030956   \n",
      "word_freq_meeting                -0.026070          -0.025177      -0.005811   \n",
      "word_freq_original               -0.024292          -0.002370      -0.044325   \n",
      "word_freq_project                -0.022116          -0.019739      -0.053464   \n",
      "word_freq_re                     -0.037105          -0.016418      -0.050664   \n",
      "word_freq_edu                    -0.034056          -0.023858      -0.056655   \n",
      "word_freq_table                  -0.000953          -0.009818       0.029339   \n",
      "word_freq_conference             -0.017755          -0.015747      -0.026344   \n",
      "char_freq_;                      -0.026505          -0.007282      -0.033213   \n",
      "char_freq_(                      -0.021196          -0.049837      -0.016495   \n",
      "char_freq_[                      -0.033301          -0.018527      -0.033120   \n",
      "char_freq_!                       0.058292          -0.014461       0.108140   \n",
      "char_freq_$                       0.117419          -0.009605       0.087618   \n",
      "char_freq_#                      -0.008844           0.001946      -0.003336   \n",
      "capital_run_length_average        0.044491           0.002083       0.097398   \n",
      "capital_run_length_longest        0.061382           0.000271       0.107463   \n",
      "capital_run_length_total          0.089165          -0.022680       0.070114   \n",
      "label                             0.126208          -0.030224       0.196988   \n",
      "\n",
      "                            word_freq_3d  word_freq_our  word_freq_over  \\\n",
      "word_freq_make                  0.013273       0.023119        0.059674   \n",
      "word_freq_address              -0.006923      -0.023760       -0.024840   \n",
      "word_freq_all                  -0.020246       0.077734        0.087564   \n",
      "word_freq_3d                    1.000000       0.003238       -0.010014   \n",
      "word_freq_our                   0.003238       1.000000        0.054054   \n",
      "word_freq_over                 -0.010014       0.054054        1.000000   \n",
      "word_freq_remove                0.019784       0.147336        0.061163   \n",
      "word_freq_internet              0.010268       0.029598        0.079561   \n",
      "word_freq_order                -0.002454       0.020823        0.117438   \n",
      "word_freq_mail                 -0.004947       0.034495        0.013897   \n",
      "word_freq_receive              -0.012976       0.068382        0.053900   \n",
      "word_freq_will                 -0.019221       0.066788        0.009264   \n",
      "word_freq_people               -0.013199       0.031126        0.077631   \n",
      "word_freq_report                0.012008       0.003445        0.009673   \n",
      "word_freq_addresses             0.002707       0.056177        0.173066   \n",
      "word_freq_free                  0.007432       0.083024        0.019865   \n",
      "word_freq_business              0.003470       0.143443        0.064137   \n",
      "word_freq_email                 0.019391       0.062344        0.078350   \n",
      "word_freq_you                  -0.010834       0.098510        0.095505   \n",
      "word_freq_credit               -0.005381       0.031526        0.058979   \n",
      "word_freq_your                  0.008176       0.136605        0.106833   \n",
      "word_freq_font                  0.028102      -0.020207        0.007956   \n",
      "word_freq_000                   0.011368       0.070037        0.211455   \n",
      "word_freq_money                 0.035360       0.000039        0.059329   \n",
      "word_freq_hp                   -0.015181      -0.072502       -0.084402   \n",
      "word_freq_hpl                  -0.013708      -0.075456       -0.087271   \n",
      "word_freq_george               -0.010684      -0.088011       -0.069051   \n",
      "word_freq_650                  -0.010368      -0.061501       -0.066223   \n",
      "word_freq_lab                  -0.007798       0.032048       -0.048673   \n",
      "word_freq_labs                 -0.010476      -0.052066       -0.048127   \n",
      "word_freq_telnet               -0.007529      -0.042535       -0.046383   \n",
      "word_freq_857                  -0.006717      -0.026748       -0.036835   \n",
      "word_freq_data                 -0.008075      -0.031998       -0.034164   \n",
      "word_freq_415                  -0.006729      -0.026960       -0.037315   \n",
      "word_freq_85                   -0.006122      -0.049732       -0.054315   \n",
      "word_freq_technology           -0.006515      -0.048844       -0.052819   \n",
      "word_freq_1999                 -0.007761      -0.072599       -0.057465   \n",
      "word_freq_parts                -0.002669       0.130812       -0.017918   \n",
      "word_freq_pm                   -0.004602      -0.042044       -0.047619   \n",
      "word_freq_direct               -0.007643      -0.021442       -0.029866   \n",
      "word_freq_cs                   -0.005670      -0.047505       -0.029457   \n",
      "word_freq_meeting              -0.008095       0.115041       -0.054812   \n",
      "word_freq_original             -0.009268      -0.048879       -0.030616   \n",
      "word_freq_project              -0.005933       0.015234       -0.028826   \n",
      "word_freq_re                   -0.012957      -0.042336       -0.053637   \n",
      "word_freq_edu                  -0.009181      -0.077986       -0.033046   \n",
      "word_freq_table                -0.003348      -0.026900       -0.014343   \n",
      "word_freq_conference           -0.001924      -0.032005       -0.031693   \n",
      "char_freq_;                    -0.000591      -0.032759       -0.019119   \n",
      "char_freq_(                    -0.012370      -0.046361       -0.008705   \n",
      "char_freq_[                    -0.007148      -0.026390       -0.015133   \n",
      "char_freq_!                    -0.003138       0.025509        0.065043   \n",
      "char_freq_$                     0.010862       0.041582        0.105692   \n",
      "char_freq_#                    -0.000298       0.002016        0.019894   \n",
      "capital_run_length_average      0.005260       0.052662       -0.010278   \n",
      "capital_run_length_longest      0.022081       0.052290        0.090172   \n",
      "capital_run_length_total        0.021369       0.002492        0.082089   \n",
      "label                           0.057371       0.241920        0.232604   \n",
      "\n",
      "                            word_freq_remove  word_freq_internet  \\\n",
      "word_freq_make                      0.007669           -0.003950   \n",
      "word_freq_address                   0.003918           -0.016280   \n",
      "word_freq_all                       0.036677            0.012003   \n",
      "word_freq_3d                        0.019784            0.010268   \n",
      "word_freq_our                       0.147336            0.029598   \n",
      "word_freq_over                      0.061163            0.079561   \n",
      "word_freq_remove                    1.000000            0.044545   \n",
      "word_freq_internet                  0.044545            1.000000   \n",
      "word_freq_order                     0.050786            0.105302   \n",
      "word_freq_mail                      0.056809            0.083129   \n",
      "word_freq_receive                   0.159578            0.128495   \n",
      "word_freq_will                     -0.001461           -0.002973   \n",
      "word_freq_people                    0.013295            0.026274   \n",
      "word_freq_report                   -0.022723            0.012426   \n",
      "word_freq_addresses                 0.042904            0.072782   \n",
      "word_freq_free                      0.128436            0.051115   \n",
      "word_freq_business                  0.187981            0.216422   \n",
      "word_freq_email                     0.122011            0.037738   \n",
      "word_freq_you                       0.111792            0.020641   \n",
      "word_freq_credit                    0.046134            0.109163   \n",
      "word_freq_your                      0.130794            0.156905   \n",
      "word_freq_font                     -0.002093           -0.016192   \n",
      "word_freq_000                       0.064795            0.089226   \n",
      "word_freq_money                     0.030575            0.034127   \n",
      "word_freq_hp                       -0.089494           -0.053038   \n",
      "word_freq_hpl                      -0.080330           -0.041450   \n",
      "word_freq_george                   -0.065893           -0.057189   \n",
      "word_freq_650                      -0.066947           -0.049988   \n",
      "word_freq_lab                      -0.048482           -0.037047   \n",
      "word_freq_labs                     -0.058101           -0.043405   \n",
      "word_freq_telnet                   -0.046280           -0.035816   \n",
      "word_freq_857                      -0.040538           -0.034276   \n",
      "word_freq_data                     -0.041372           -0.039220   \n",
      "word_freq_415                      -0.040910           -0.034811   \n",
      "word_freq_85                       -0.053202           -0.035174   \n",
      "word_freq_technology               -0.053978           -0.033747   \n",
      "word_freq_1999                     -0.052035           -0.017466   \n",
      "word_freq_parts                    -0.014781           -0.012119   \n",
      "word_freq_pm                       -0.046978           -0.030392   \n",
      "word_freq_direct                   -0.022121           -0.005988   \n",
      "word_freq_cs                       -0.033120           -0.003884   \n",
      "word_freq_meeting                  -0.049664           -0.043626   \n",
      "word_freq_original                 -0.049079           -0.004542   \n",
      "word_freq_project                  -0.034461           -0.030134   \n",
      "word_freq_re                       -0.050811           -0.002423   \n",
      "word_freq_edu                      -0.056166           -0.037916   \n",
      "word_freq_table                    -0.017512           -0.006397   \n",
      "word_freq_conference               -0.031408           -0.021224   \n",
      "char_freq_;                        -0.033089           -0.027432   \n",
      "char_freq_(                        -0.051885           -0.032494   \n",
      "char_freq_[                        -0.027653           -0.019548   \n",
      "char_freq_!                         0.053706            0.031454   \n",
      "char_freq_$                         0.070127            0.057910   \n",
      "char_freq_#                         0.046612           -0.008012   \n",
      "capital_run_length_average          0.041565            0.011254   \n",
      "capital_run_length_longest          0.059677            0.037575   \n",
      "capital_run_length_total           -0.008344            0.040252   \n",
      "label                               0.332117            0.206808   \n",
      "\n",
      "                            word_freq_order  word_freq_mail    ...     \\\n",
      "word_freq_make                     0.106263        0.041198    ...      \n",
      "word_freq_address                 -0.003826        0.032962    ...      \n",
      "word_freq_all                      0.093786        0.032075    ...      \n",
      "word_freq_3d                      -0.002454       -0.004947    ...      \n",
      "word_freq_our                      0.020823        0.034495    ...      \n",
      "word_freq_over                     0.117438        0.013897    ...      \n",
      "word_freq_remove                   0.050786        0.056809    ...      \n",
      "word_freq_internet                 0.105302        0.083129    ...      \n",
      "word_freq_order                    1.000000        0.130624    ...      \n",
      "word_freq_mail                     0.130624        1.000000    ...      \n",
      "word_freq_receive                  0.137760        0.125319    ...      \n",
      "word_freq_will                     0.030344        0.071157    ...      \n",
      "word_freq_people                   0.034738        0.045737    ...      \n",
      "word_freq_report                   0.066840        0.017901    ...      \n",
      "word_freq_addresses                0.238436        0.160543    ...      \n",
      "word_freq_free                     0.008269        0.025601    ...      \n",
      "word_freq_business                 0.158390        0.081363    ...      \n",
      "word_freq_email                    0.098804        0.035977    ...      \n",
      "word_freq_you                      0.039017        0.093509    ...      \n",
      "word_freq_credit                   0.123217        0.030859    ...      \n",
      "word_freq_your                     0.159112        0.098072    ...      \n",
      "word_freq_font                    -0.019648        0.008200    ...      \n",
      "word_freq_000                      0.126800        0.096809    ...      \n",
      "word_freq_money                    0.099461        0.052129    ...      \n",
      "word_freq_hp                      -0.069931       -0.033534    ...      \n",
      "word_freq_hpl                     -0.049775       -0.013045    ...      \n",
      "word_freq_george                  -0.064608       -0.067817    ...      \n",
      "word_freq_650                     -0.056764        0.019356    ...      \n",
      "word_freq_lab                     -0.044840       -0.026903    ...      \n",
      "word_freq_labs                    -0.043643        0.008677    ...      \n",
      "word_freq_telnet                  -0.040158       -0.024423    ...      \n",
      "word_freq_857                     -0.033984       -0.015137    ...      \n",
      "word_freq_data                    -0.014403       -0.035366    ...      \n",
      "word_freq_415                     -0.033601       -0.014434    ...      \n",
      "word_freq_85                      -0.041847       -0.020092    ...      \n",
      "word_freq_technology              -0.056270       -0.016955    ...      \n",
      "word_freq_1999                    -0.033244       -0.004944    ...      \n",
      "word_freq_parts                   -0.002216       -0.017950    ...      \n",
      "word_freq_pm                      -0.040844       -0.016091    ...      \n",
      "word_freq_direct                  -0.009867        0.004163    ...      \n",
      "word_freq_cs                      -0.035177       -0.025084    ...      \n",
      "word_freq_meeting                 -0.048223       -0.054467    ...      \n",
      "word_freq_original                -0.034190        0.023200    ...      \n",
      "word_freq_project                 -0.035159       -0.026654    ...      \n",
      "word_freq_re                      -0.075558       -0.032065    ...      \n",
      "word_freq_edu                     -0.056817       -0.030326    ...      \n",
      "word_freq_table                    0.007521       -0.015546    ...      \n",
      "word_freq_conference              -0.026017       -0.016842    ...      \n",
      "char_freq_;                       -0.014646        0.011945    ...      \n",
      "char_freq_(                       -0.031003        0.003936    ...      \n",
      "char_freq_[                        0.013601        0.007357    ...      \n",
      "char_freq_!                        0.043639        0.036737    ...      \n",
      "char_freq_$                        0.149365        0.075786    ...      \n",
      "char_freq_#                       -0.000522        0.044830    ...      \n",
      "capital_run_length_average         0.111308        0.073677    ...      \n",
      "capital_run_length_longest         0.189247        0.103308    ...      \n",
      "capital_run_length_total           0.248724        0.087273    ...      \n",
      "label                              0.231551        0.138962    ...      \n",
      "\n",
      "                            char_freq_;  char_freq_(  char_freq_[  \\\n",
      "word_freq_make                -0.026505    -0.021196    -0.033301   \n",
      "word_freq_address             -0.007282    -0.049837    -0.018527   \n",
      "word_freq_all                 -0.033213    -0.016495    -0.033120   \n",
      "word_freq_3d                  -0.000591    -0.012370    -0.007148   \n",
      "word_freq_our                 -0.032759    -0.046361    -0.026390   \n",
      "word_freq_over                -0.019119    -0.008705    -0.015133   \n",
      "word_freq_remove              -0.033089    -0.051885    -0.027653   \n",
      "word_freq_internet            -0.027432    -0.032494    -0.019548   \n",
      "word_freq_order               -0.014646    -0.031003     0.013601   \n",
      "word_freq_mail                 0.011945     0.003936     0.007357   \n",
      "word_freq_receive             -0.032410    -0.055089    -0.025183   \n",
      "word_freq_will                -0.027711    -0.030940    -0.044966   \n",
      "word_freq_people              -0.023445    -0.051151    -0.028283   \n",
      "word_freq_report              -0.019045    -0.005804    -0.014349   \n",
      "word_freq_addresses           -0.018277    -0.002551    -0.003111   \n",
      "word_freq_free                -0.026841    -0.046578    -0.029560   \n",
      "word_freq_business            -0.031542    -0.035897    -0.036691   \n",
      "word_freq_email               -0.039519    -0.035897    -0.017439   \n",
      "word_freq_you                 -0.044314    -0.128882    -0.063826   \n",
      "word_freq_credit              -0.020851    -0.021431    -0.012071   \n",
      "word_freq_your                -0.058660    -0.085181    -0.045469   \n",
      "word_freq_font                 0.416608    -0.046244    -0.001137   \n",
      "word_freq_000                 -0.027362    -0.033174    -0.000467   \n",
      "word_freq_money               -0.019139    -0.033113    -0.020798   \n",
      "word_freq_hp                   0.029181     0.136979     0.039723   \n",
      "word_freq_hpl                  0.013558     0.144771     0.064349   \n",
      "word_freq_george              -0.022724    -0.028748    -0.017676   \n",
      "word_freq_650                 -0.025020     0.313835     0.031979   \n",
      "word_freq_lab                 -0.018502     0.158593     0.006575   \n",
      "word_freq_labs                -0.019845     0.224192     0.004667   \n",
      "word_freq_telnet              -0.016280     0.233392     0.010718   \n",
      "word_freq_857                 -0.008853     0.304679     0.013805   \n",
      "word_freq_data                -0.005691     0.028655     0.113105   \n",
      "word_freq_415                 -0.009290     0.303606     0.013687   \n",
      "word_freq_85                  -0.021592     0.200713     0.034435   \n",
      "word_freq_technology          -0.018947     0.245454     0.001017   \n",
      "word_freq_1999                 0.052138     0.107674     0.073010   \n",
      "word_freq_parts                0.007886    -0.010430     0.001767   \n",
      "word_freq_pm                   0.034492     0.107928     0.038474   \n",
      "word_freq_direct              -0.018693     0.268701     0.014065   \n",
      "word_freq_cs                   0.053034     0.017584     0.034408   \n",
      "word_freq_meeting             -0.007817    -0.013082     0.011091   \n",
      "word_freq_original             0.015385     0.060568     0.115548   \n",
      "word_freq_project             -0.007257    -0.003203    -0.010733   \n",
      "word_freq_re                  -0.024698     0.001413     0.008838   \n",
      "word_freq_edu                  0.015382     0.014763    -0.003168   \n",
      "word_freq_table                0.000995    -0.003085    -0.004592   \n",
      "word_freq_conference          -0.002290    -0.012795    -0.006310   \n",
      "char_freq_;                    1.000000     0.049124     0.009070   \n",
      "char_freq_(                    0.049124     1.000000     0.022316   \n",
      "char_freq_[                    0.009070     0.022316     1.000000   \n",
      "char_freq_!                    0.020539    -0.030354    -0.031769   \n",
      "char_freq_$                    0.006392     0.044722    -0.026400   \n",
      "char_freq_#                    0.055057     0.023322    -0.006863   \n",
      "capital_run_length_average     0.003443     0.034365    -0.008180   \n",
      "capital_run_length_longest     0.040829     0.370963    -0.013994   \n",
      "capital_run_length_total       0.055298     0.112209     0.006016   \n",
      "label                         -0.059630    -0.089672    -0.064709   \n",
      "\n",
      "                            char_freq_!  char_freq_$  char_freq_#  \\\n",
      "word_freq_make                 0.058292     0.117419    -0.008844   \n",
      "word_freq_address             -0.014461    -0.009605     0.001946   \n",
      "word_freq_all                  0.108140     0.087618    -0.003336   \n",
      "word_freq_3d                  -0.003138     0.010862    -0.000298   \n",
      "word_freq_our                  0.025509     0.041582     0.002016   \n",
      "word_freq_over                 0.065043     0.105692     0.019894   \n",
      "word_freq_remove               0.053706     0.070127     0.046612   \n",
      "word_freq_internet             0.031454     0.057910    -0.008012   \n",
      "word_freq_order                0.043639     0.149365    -0.000522   \n",
      "word_freq_mail                 0.036737     0.075786     0.044830   \n",
      "word_freq_receive              0.024992     0.070227     0.001126   \n",
      "word_freq_will                 0.013369     0.016723    -0.030445   \n",
      "word_freq_people               0.040737     0.205905    -0.014195   \n",
      "word_freq_report              -0.008499     0.080953     0.006545   \n",
      "word_freq_addresses            0.018607     0.123854    -0.005446   \n",
      "word_freq_free                 0.104261     0.049953     0.035534   \n",
      "word_freq_business             0.077049     0.098323    -0.000466   \n",
      "word_freq_email                0.039350     0.063872     0.020978   \n",
      "word_freq_you                  0.153381     0.091470    -0.002434   \n",
      "word_freq_credit               0.048350     0.034948     0.007214   \n",
      "word_freq_your                 0.084017     0.141649    -0.004355   \n",
      "word_freq_font                -0.004838    -0.011036     0.184428   \n",
      "word_freq_000                  0.070103     0.310971     0.020140   \n",
      "word_freq_money                0.051076     0.104691     0.000703   \n",
      "word_freq_hp                  -0.090862    -0.086634     0.058780   \n",
      "word_freq_hpl                 -0.078367    -0.081198    -0.020691   \n",
      "word_freq_george              -0.067500    -0.068728    -0.020561   \n",
      "word_freq_650                 -0.063495    -0.061441    -0.011438   \n",
      "word_freq_lab                 -0.042330    -0.050231     0.002076   \n",
      "word_freq_labs                -0.061694    -0.065475     0.082593   \n",
      "word_freq_telnet              -0.045273    -0.047475     0.000225   \n",
      "word_freq_857                 -0.041529    -0.043484    -0.010735   \n",
      "word_freq_data                -0.048493    -0.048101    -0.009928   \n",
      "word_freq_415                 -0.038626    -0.039844    -0.010635   \n",
      "word_freq_85                  -0.048822    -0.048947    -0.009650   \n",
      "word_freq_technology          -0.060379    -0.057933     0.006452   \n",
      "word_freq_1999                -0.054578    -0.063895    -0.022637   \n",
      "word_freq_parts               -0.015126    -0.012909    -0.003627   \n",
      "word_freq_pm                  -0.024846    -0.044513    -0.011326   \n",
      "word_freq_direct              -0.032509    -0.016724    -0.010661   \n",
      "word_freq_cs                  -0.025911    -0.036610    -0.011755   \n",
      "word_freq_meeting             -0.038094    -0.043653    -0.003873   \n",
      "word_freq_original            -0.049362    -0.054698    -0.013925   \n",
      "word_freq_project             -0.033837    -0.036241     0.001167   \n",
      "word_freq_re                   0.067569    -0.049367    -0.023878   \n",
      "word_freq_edu                 -0.028845    -0.050109    -0.015040   \n",
      "word_freq_table               -0.017679    -0.018549     0.000308   \n",
      "word_freq_conference          -0.026576    -0.030751    -0.008575   \n",
      "char_freq_;                    0.020539     0.006392     0.055057   \n",
      "char_freq_(                   -0.030354     0.044722     0.023322   \n",
      "char_freq_[                   -0.031769    -0.026400    -0.006863   \n",
      "char_freq_!                    1.000000     0.142913     0.020924   \n",
      "char_freq_$                    0.142913     1.000000     0.012613   \n",
      "char_freq_#                    0.020924     0.012613     1.000000   \n",
      "capital_run_length_average     0.054308     0.079998     0.013497   \n",
      "capital_run_length_longest     0.077392     0.183144     0.061657   \n",
      "capital_run_length_total       0.036321     0.201948     0.042568   \n",
      "label                          0.241888     0.323629     0.065067   \n",
      "\n",
      "                            capital_run_length_average  \\\n",
      "word_freq_make                                0.044491   \n",
      "word_freq_address                             0.002083   \n",
      "word_freq_all                                 0.097398   \n",
      "word_freq_3d                                  0.005260   \n",
      "word_freq_our                                 0.052662   \n",
      "word_freq_over                               -0.010278   \n",
      "word_freq_remove                              0.041565   \n",
      "word_freq_internet                            0.011254   \n",
      "word_freq_order                               0.111308   \n",
      "word_freq_mail                                0.073677   \n",
      "word_freq_receive                             0.029258   \n",
      "word_freq_will                               -0.010002   \n",
      "word_freq_people                             -0.013446   \n",
      "word_freq_report                              0.003023   \n",
      "word_freq_addresses                           0.017383   \n",
      "word_freq_free                                0.015036   \n",
      "word_freq_business                            0.038126   \n",
      "word_freq_email                              -0.007979   \n",
      "word_freq_you                                -0.030592   \n",
      "word_freq_credit                              0.067140   \n",
      "word_freq_your                                0.041066   \n",
      "word_freq_font                                0.021497   \n",
      "word_freq_000                                 0.008372   \n",
      "word_freq_money                               0.007681   \n",
      "word_freq_hp                                 -0.017285   \n",
      "word_freq_hpl                                -0.024234   \n",
      "word_freq_george                             -0.025504   \n",
      "word_freq_650                                -0.013757   \n",
      "word_freq_lab                                -0.014936   \n",
      "word_freq_labs                               -0.016599   \n",
      "word_freq_telnet                             -0.010897   \n",
      "word_freq_857                                -0.010498   \n",
      "word_freq_data                               -0.015509   \n",
      "word_freq_415                                -0.002404   \n",
      "word_freq_85                                 -0.013707   \n",
      "word_freq_technology                         -0.019185   \n",
      "word_freq_1999                               -0.014423   \n",
      "word_freq_parts                              -0.006012   \n",
      "word_freq_pm                                 -0.014032   \n",
      "word_freq_direct                             -0.003945   \n",
      "word_freq_cs                                 -0.008895   \n",
      "word_freq_meeting                            -0.017899   \n",
      "word_freq_original                           -0.017681   \n",
      "word_freq_project                            -0.013157   \n",
      "word_freq_re                                 -0.026979   \n",
      "word_freq_edu                                -0.017408   \n",
      "word_freq_table                              -0.006465   \n",
      "word_freq_conference                         -0.008114   \n",
      "char_freq_;                                   0.003443   \n",
      "char_freq_(                                   0.034365   \n",
      "char_freq_[                                  -0.008180   \n",
      "char_freq_!                                   0.054308   \n",
      "char_freq_$                                   0.079998   \n",
      "char_freq_#                                   0.013497   \n",
      "capital_run_length_average                    1.000000   \n",
      "capital_run_length_longest                    0.492638   \n",
      "capital_run_length_total                      0.162314   \n",
      "label                                         0.109999   \n",
      "\n",
      "                            capital_run_length_longest  \\\n",
      "word_freq_make                                0.061382   \n",
      "word_freq_address                             0.000271   \n",
      "word_freq_all                                 0.107463   \n",
      "word_freq_3d                                  0.022081   \n",
      "word_freq_our                                 0.052290   \n",
      "word_freq_over                                0.090172   \n",
      "word_freq_remove                              0.059677   \n",
      "word_freq_internet                            0.037575   \n",
      "word_freq_order                               0.189247   \n",
      "word_freq_mail                                0.103308   \n",
      "word_freq_receive                             0.086791   \n",
      "word_freq_will                                0.021774   \n",
      "word_freq_people                              0.041962   \n",
      "word_freq_report                              0.060993   \n",
      "word_freq_addresses                           0.213992   \n",
      "word_freq_free                                0.026528   \n",
      "word_freq_business                            0.062672   \n",
      "word_freq_email                               0.075122   \n",
      "word_freq_you                                 0.006530   \n",
      "word_freq_credit                              0.099463   \n",
      "word_freq_your                                0.085321   \n",
      "word_freq_font                                0.027775   \n",
      "word_freq_000                                 0.123036   \n",
      "word_freq_money                               0.044870   \n",
      "word_freq_hp                                 -0.051206   \n",
      "word_freq_hpl                                -0.051806   \n",
      "word_freq_george                             -0.054400   \n",
      "word_freq_650                                -0.038772   \n",
      "word_freq_lab                                -0.034733   \n",
      "word_freq_labs                               -0.039001   \n",
      "word_freq_telnet                             -0.027449   \n",
      "word_freq_857                                -0.027732   \n",
      "word_freq_data                               -0.025919   \n",
      "word_freq_415                                -0.024532   \n",
      "word_freq_85                                 -0.030236   \n",
      "word_freq_technology                         -0.038100   \n",
      "word_freq_1999                               -0.033204   \n",
      "word_freq_parts                              -0.009487   \n",
      "word_freq_pm                                 -0.029229   \n",
      "word_freq_direct                             -0.004835   \n",
      "word_freq_cs                                 -0.023658   \n",
      "word_freq_meeting                            -0.034585   \n",
      "word_freq_original                           -0.017279   \n",
      "word_freq_project                            -0.025918   \n",
      "word_freq_re                                 -0.051858   \n",
      "word_freq_edu                                -0.033365   \n",
      "word_freq_table                              -0.010154   \n",
      "word_freq_conference                         -0.016894   \n",
      "char_freq_;                                   0.040829   \n",
      "char_freq_(                                   0.370963   \n",
      "char_freq_[                                  -0.013994   \n",
      "char_freq_!                                   0.077392   \n",
      "char_freq_$                                   0.183144   \n",
      "char_freq_#                                   0.061657   \n",
      "capital_run_length_average                    0.492638   \n",
      "capital_run_length_longest                    1.000000   \n",
      "capital_run_length_total                      0.475486   \n",
      "label                                         0.216097   \n",
      "\n",
      "                            capital_run_length_total     label  \n",
      "word_freq_make                              0.089165  0.126208  \n",
      "word_freq_address                          -0.022680 -0.030224  \n",
      "word_freq_all                               0.070114  0.196988  \n",
      "word_freq_3d                                0.021369  0.057371  \n",
      "word_freq_our                               0.002492  0.241920  \n",
      "word_freq_over                              0.082089  0.232604  \n",
      "word_freq_remove                           -0.008344  0.332117  \n",
      "word_freq_internet                          0.040252  0.206808  \n",
      "word_freq_order                             0.248724  0.231551  \n",
      "word_freq_mail                              0.087273  0.138962  \n",
      "word_freq_receive                           0.115055  0.234529  \n",
      "word_freq_will                              0.020076  0.007741  \n",
      "word_freq_people                            0.105150  0.132927  \n",
      "word_freq_report                            0.169257  0.060027  \n",
      "word_freq_addresses                         0.151626  0.195902  \n",
      "word_freq_free                              0.003007  0.263215  \n",
      "word_freq_business                          0.064261  0.263204  \n",
      "word_freq_email                             0.046364  0.204208  \n",
      "word_freq_you                              -0.007307  0.273651  \n",
      "word_freq_credit                            0.075751  0.189761  \n",
      "word_freq_your                              0.051797  0.383234  \n",
      "word_freq_font                              0.103954  0.091860  \n",
      "word_freq_000                               0.165977  0.334787  \n",
      "word_freq_money                             0.080993  0.216111  \n",
      "word_freq_hp                               -0.043267 -0.256723  \n",
      "word_freq_hpl                              -0.059601 -0.232968  \n",
      "word_freq_george                           -0.096548 -0.183404  \n",
      "word_freq_650                              -0.067596 -0.158800  \n",
      "word_freq_lab                              -0.056628 -0.133523  \n",
      "word_freq_labs                             -0.064115 -0.171095  \n",
      "word_freq_telnet                           -0.045923 -0.126912  \n",
      "word_freq_857                              -0.046796 -0.114214  \n",
      "word_freq_data                              0.006919 -0.119931  \n",
      "word_freq_415                              -0.044529 -0.112754  \n",
      "word_freq_85                               -0.045963 -0.149225  \n",
      "word_freq_technology                       -0.045792 -0.136134  \n",
      "word_freq_1999                             -0.003490 -0.178045  \n",
      "word_freq_parts                            -0.013897 -0.031035  \n",
      "word_freq_pm                               -0.049256 -0.122831  \n",
      "word_freq_direct                           -0.028806 -0.064801  \n",
      "word_freq_cs                               -0.026373 -0.097375  \n",
      "word_freq_meeting                          -0.056511 -0.136615  \n",
      "word_freq_original                         -0.036529 -0.135664  \n",
      "word_freq_project                          -0.040661 -0.094594  \n",
      "word_freq_re                               -0.095444 -0.140408  \n",
      "word_freq_edu                              -0.046371 -0.146138  \n",
      "word_freq_table                             0.005158 -0.044679  \n",
      "word_freq_conference                       -0.010033 -0.084020  \n",
      "char_freq_;                                 0.055298 -0.059630  \n",
      "char_freq_(                                 0.112209 -0.089672  \n",
      "char_freq_[                                 0.006016 -0.064709  \n",
      "char_freq_!                                 0.036321  0.241888  \n",
      "char_freq_$                                 0.201948  0.323629  \n",
      "char_freq_#                                 0.042568  0.065067  \n",
      "capital_run_length_average                  0.162314  0.109999  \n",
      "capital_run_length_longest                  0.475486  0.216097  \n",
      "capital_run_length_total                    1.000000  0.249164  \n",
      "label                                       0.249164  1.000000  \n",
      "\n",
      "[58 rows x 58 columns]\n"
     ]
    }
   ],
   "source": [
    "corr_matrix = spam_data.corr()\n",
    "print (corr_matrix)"
   ]
  },
  {
   "cell_type": "code",
   "execution_count": 65,
   "metadata": {},
   "outputs": [
    {
     "data": {
      "text/plain": [
       "label                         1.000000\n",
       "word_freq_your                0.383234\n",
       "word_freq_000                 0.334787\n",
       "word_freq_remove              0.332117\n",
       "char_freq_$                   0.323629\n",
       "word_freq_you                 0.273651\n",
       "word_freq_free                0.263215\n",
       "word_freq_business            0.263204\n",
       "capital_run_length_total      0.249164\n",
       "word_freq_our                 0.241920\n",
       "char_freq_!                   0.241888\n",
       "word_freq_receive             0.234529\n",
       "word_freq_over                0.232604\n",
       "word_freq_order               0.231551\n",
       "word_freq_money               0.216111\n",
       "capital_run_length_longest    0.216097\n",
       "word_freq_internet            0.206808\n",
       "word_freq_email               0.204208\n",
       "word_freq_all                 0.196988\n",
       "word_freq_addresses           0.195902\n",
       "word_freq_credit              0.189761\n",
       "word_freq_mail                0.138962\n",
       "word_freq_people              0.132927\n",
       "word_freq_make                0.126208\n",
       "capital_run_length_average    0.109999\n",
       "word_freq_font                0.091860\n",
       "char_freq_#                   0.065067\n",
       "word_freq_report              0.060027\n",
       "word_freq_3d                  0.057371\n",
       "word_freq_will                0.007741\n",
       "word_freq_address            -0.030224\n",
       "word_freq_parts              -0.031035\n",
       "word_freq_table              -0.044679\n",
       "char_freq_;                  -0.059630\n",
       "char_freq_[                  -0.064709\n",
       "word_freq_direct             -0.064801\n",
       "word_freq_conference         -0.084020\n",
       "char_freq_(                  -0.089672\n",
       "word_freq_project            -0.094594\n",
       "word_freq_cs                 -0.097375\n",
       "word_freq_415                -0.112754\n",
       "word_freq_857                -0.114214\n",
       "word_freq_data               -0.119931\n",
       "word_freq_pm                 -0.122831\n",
       "word_freq_telnet             -0.126912\n",
       "word_freq_lab                -0.133523\n",
       "word_freq_original           -0.135664\n",
       "word_freq_technology         -0.136134\n",
       "word_freq_meeting            -0.136615\n",
       "word_freq_re                 -0.140408\n",
       "word_freq_edu                -0.146138\n",
       "word_freq_85                 -0.149225\n",
       "word_freq_650                -0.158800\n",
       "word_freq_labs               -0.171095\n",
       "word_freq_1999               -0.178045\n",
       "word_freq_george             -0.183404\n",
       "word_freq_hpl                -0.232968\n",
       "word_freq_hp                 -0.256723\n",
       "Name: label, dtype: float64"
      ]
     },
     "execution_count": 65,
     "metadata": {},
     "output_type": "execute_result"
    }
   ],
   "source": [
    "#################\n",
    "# DATA DISCOVERY#\n",
    "#################\n",
    "corr_matrix[\"label\"].sort_values(ascending=False)"
   ]
  },
  {
   "cell_type": "code",
   "execution_count": 66,
   "metadata": {},
   "outputs": [
    {
     "data": {
      "text/html": [
       "<div>\n",
       "<style scoped>\n",
       "    .dataframe tbody tr th:only-of-type {\n",
       "        vertical-align: middle;\n",
       "    }\n",
       "\n",
       "    .dataframe tbody tr th {\n",
       "        vertical-align: top;\n",
       "    }\n",
       "\n",
       "    .dataframe thead th {\n",
       "        text-align: right;\n",
       "    }\n",
       "</style>\n",
       "<table border=\"1\" class=\"dataframe\">\n",
       "  <thead>\n",
       "    <tr style=\"text-align: right;\">\n",
       "      <th></th>\n",
       "      <th>word_freq_make</th>\n",
       "      <th>word_freq_address</th>\n",
       "      <th>word_freq_all</th>\n",
       "      <th>word_freq_3d</th>\n",
       "      <th>word_freq_our</th>\n",
       "      <th>word_freq_over</th>\n",
       "      <th>word_freq_remove</th>\n",
       "      <th>word_freq_internet</th>\n",
       "      <th>word_freq_order</th>\n",
       "      <th>word_freq_mail</th>\n",
       "      <th>...</th>\n",
       "      <th>word_freq_conference</th>\n",
       "      <th>char_freq_;</th>\n",
       "      <th>char_freq_(</th>\n",
       "      <th>char_freq_[</th>\n",
       "      <th>char_freq_!</th>\n",
       "      <th>char_freq_$</th>\n",
       "      <th>char_freq_#</th>\n",
       "      <th>capital_run_length_average</th>\n",
       "      <th>capital_run_length_longest</th>\n",
       "      <th>capital_run_length_total</th>\n",
       "    </tr>\n",
       "  </thead>\n",
       "  <tbody>\n",
       "    <tr>\n",
       "      <th>1947</th>\n",
       "      <td>0.00</td>\n",
       "      <td>0.00</td>\n",
       "      <td>0.00</td>\n",
       "      <td>0.0</td>\n",
       "      <td>0.0</td>\n",
       "      <td>0.00</td>\n",
       "      <td>0.0</td>\n",
       "      <td>0.00</td>\n",
       "      <td>0.0</td>\n",
       "      <td>0.00</td>\n",
       "      <td>...</td>\n",
       "      <td>0.0</td>\n",
       "      <td>0.000</td>\n",
       "      <td>0.000</td>\n",
       "      <td>0.0</td>\n",
       "      <td>0.000</td>\n",
       "      <td>0.000</td>\n",
       "      <td>0.38</td>\n",
       "      <td>2.307</td>\n",
       "      <td>9</td>\n",
       "      <td>30</td>\n",
       "    </tr>\n",
       "    <tr>\n",
       "      <th>2159</th>\n",
       "      <td>0.08</td>\n",
       "      <td>0.17</td>\n",
       "      <td>0.17</td>\n",
       "      <td>0.0</td>\n",
       "      <td>0.8</td>\n",
       "      <td>0.08</td>\n",
       "      <td>0.0</td>\n",
       "      <td>0.26</td>\n",
       "      <td>0.0</td>\n",
       "      <td>0.00</td>\n",
       "      <td>...</td>\n",
       "      <td>0.0</td>\n",
       "      <td>0.023</td>\n",
       "      <td>0.046</td>\n",
       "      <td>0.0</td>\n",
       "      <td>0.000</td>\n",
       "      <td>0.023</td>\n",
       "      <td>0.00</td>\n",
       "      <td>2.658</td>\n",
       "      <td>57</td>\n",
       "      <td>436</td>\n",
       "    </tr>\n",
       "    <tr>\n",
       "      <th>4223</th>\n",
       "      <td>0.00</td>\n",
       "      <td>0.00</td>\n",
       "      <td>1.85</td>\n",
       "      <td>0.0</td>\n",
       "      <td>0.0</td>\n",
       "      <td>0.00</td>\n",
       "      <td>0.0</td>\n",
       "      <td>0.00</td>\n",
       "      <td>0.0</td>\n",
       "      <td>1.85</td>\n",
       "      <td>...</td>\n",
       "      <td>0.0</td>\n",
       "      <td>0.000</td>\n",
       "      <td>0.000</td>\n",
       "      <td>0.0</td>\n",
       "      <td>0.692</td>\n",
       "      <td>0.000</td>\n",
       "      <td>0.00</td>\n",
       "      <td>1.727</td>\n",
       "      <td>5</td>\n",
       "      <td>19</td>\n",
       "    </tr>\n",
       "    <tr>\n",
       "      <th>2624</th>\n",
       "      <td>0.00</td>\n",
       "      <td>0.00</td>\n",
       "      <td>0.00</td>\n",
       "      <td>0.0</td>\n",
       "      <td>0.0</td>\n",
       "      <td>0.00</td>\n",
       "      <td>0.0</td>\n",
       "      <td>0.00</td>\n",
       "      <td>0.0</td>\n",
       "      <td>0.00</td>\n",
       "      <td>...</td>\n",
       "      <td>0.0</td>\n",
       "      <td>0.000</td>\n",
       "      <td>0.000</td>\n",
       "      <td>0.0</td>\n",
       "      <td>0.000</td>\n",
       "      <td>0.000</td>\n",
       "      <td>0.00</td>\n",
       "      <td>1.000</td>\n",
       "      <td>1</td>\n",
       "      <td>8</td>\n",
       "    </tr>\n",
       "    <tr>\n",
       "      <th>2743</th>\n",
       "      <td>0.00</td>\n",
       "      <td>0.00</td>\n",
       "      <td>0.00</td>\n",
       "      <td>0.0</td>\n",
       "      <td>0.0</td>\n",
       "      <td>0.00</td>\n",
       "      <td>0.0</td>\n",
       "      <td>0.39</td>\n",
       "      <td>0.0</td>\n",
       "      <td>0.00</td>\n",
       "      <td>...</td>\n",
       "      <td>0.0</td>\n",
       "      <td>0.000</td>\n",
       "      <td>0.049</td>\n",
       "      <td>0.0</td>\n",
       "      <td>0.000</td>\n",
       "      <td>0.000</td>\n",
       "      <td>0.00</td>\n",
       "      <td>2.000</td>\n",
       "      <td>38</td>\n",
       "      <td>124</td>\n",
       "    </tr>\n",
       "  </tbody>\n",
       "</table>\n",
       "<p>5 rows × 57 columns</p>\n",
       "</div>"
      ],
      "text/plain": [
       "      word_freq_make  word_freq_address  word_freq_all  word_freq_3d  \\\n",
       "1947            0.00               0.00           0.00           0.0   \n",
       "2159            0.08               0.17           0.17           0.0   \n",
       "4223            0.00               0.00           1.85           0.0   \n",
       "2624            0.00               0.00           0.00           0.0   \n",
       "2743            0.00               0.00           0.00           0.0   \n",
       "\n",
       "      word_freq_our  word_freq_over  word_freq_remove  word_freq_internet  \\\n",
       "1947            0.0            0.00               0.0                0.00   \n",
       "2159            0.8            0.08               0.0                0.26   \n",
       "4223            0.0            0.00               0.0                0.00   \n",
       "2624            0.0            0.00               0.0                0.00   \n",
       "2743            0.0            0.00               0.0                0.39   \n",
       "\n",
       "      word_freq_order  word_freq_mail            ...             \\\n",
       "1947              0.0            0.00            ...              \n",
       "2159              0.0            0.00            ...              \n",
       "4223              0.0            1.85            ...              \n",
       "2624              0.0            0.00            ...              \n",
       "2743              0.0            0.00            ...              \n",
       "\n",
       "      word_freq_conference  char_freq_;  char_freq_(  char_freq_[  \\\n",
       "1947                   0.0        0.000        0.000          0.0   \n",
       "2159                   0.0        0.023        0.046          0.0   \n",
       "4223                   0.0        0.000        0.000          0.0   \n",
       "2624                   0.0        0.000        0.000          0.0   \n",
       "2743                   0.0        0.000        0.049          0.0   \n",
       "\n",
       "      char_freq_!  char_freq_$  char_freq_#  capital_run_length_average  \\\n",
       "1947        0.000        0.000         0.38                       2.307   \n",
       "2159        0.000        0.023         0.00                       2.658   \n",
       "4223        0.692        0.000         0.00                       1.727   \n",
       "2624        0.000        0.000         0.00                       1.000   \n",
       "2743        0.000        0.000         0.00                       2.000   \n",
       "\n",
       "      capital_run_length_longest  capital_run_length_total  \n",
       "1947                           9                        30  \n",
       "2159                          57                       436  \n",
       "4223                           5                        19  \n",
       "2624                           1                         8  \n",
       "2743                          38                       124  \n",
       "\n",
       "[5 rows x 57 columns]"
      ]
     },
     "execution_count": 66,
     "metadata": {},
     "output_type": "execute_result"
    }
   ],
   "source": [
    "spam_param_train = X_train_pre.select_dtypes(include=[np.number])\n",
    "spam_param_test = X_test_pre.select_dtypes(include=[np.number])\n",
    "\n",
    "spam_param_train.head()"
   ]
  },
  {
   "cell_type": "code",
   "execution_count": 67,
   "metadata": {},
   "outputs": [
    {
     "data": {
      "text/html": [
       "<div>\n",
       "<style scoped>\n",
       "    .dataframe tbody tr th:only-of-type {\n",
       "        vertical-align: middle;\n",
       "    }\n",
       "\n",
       "    .dataframe tbody tr th {\n",
       "        vertical-align: top;\n",
       "    }\n",
       "\n",
       "    .dataframe thead th {\n",
       "        text-align: right;\n",
       "    }\n",
       "</style>\n",
       "<table border=\"1\" class=\"dataframe\">\n",
       "  <thead>\n",
       "    <tr style=\"text-align: right;\">\n",
       "      <th></th>\n",
       "      <th>word_freq_make</th>\n",
       "      <th>word_freq_address</th>\n",
       "      <th>word_freq_all</th>\n",
       "      <th>word_freq_3d</th>\n",
       "      <th>word_freq_our</th>\n",
       "      <th>word_freq_over</th>\n",
       "      <th>word_freq_remove</th>\n",
       "      <th>word_freq_internet</th>\n",
       "      <th>word_freq_order</th>\n",
       "      <th>word_freq_mail</th>\n",
       "      <th>...</th>\n",
       "      <th>char_freq_;</th>\n",
       "      <th>char_freq_(</th>\n",
       "      <th>char_freq_[</th>\n",
       "      <th>char_freq_!</th>\n",
       "      <th>char_freq_$</th>\n",
       "      <th>char_freq_#</th>\n",
       "      <th>capital_run_length_average</th>\n",
       "      <th>capital_run_length_longest</th>\n",
       "      <th>capital_run_length_total</th>\n",
       "      <th>label</th>\n",
       "    </tr>\n",
       "  </thead>\n",
       "  <tbody>\n",
       "  </tbody>\n",
       "</table>\n",
       "<p>0 rows × 58 columns</p>\n",
       "</div>"
      ],
      "text/plain": [
       "Empty DataFrame\n",
       "Columns: [word_freq_make, word_freq_address, word_freq_all, word_freq_3d, word_freq_our, word_freq_over, word_freq_remove, word_freq_internet, word_freq_order, word_freq_mail, word_freq_receive, word_freq_will, word_freq_people, word_freq_report, word_freq_addresses, word_freq_free, word_freq_business, word_freq_email, word_freq_you, word_freq_credit, word_freq_your, word_freq_font, word_freq_000, word_freq_money, word_freq_hp, word_freq_hpl, word_freq_george, word_freq_650, word_freq_lab, word_freq_labs, word_freq_telnet, word_freq_857, word_freq_data, word_freq_415, word_freq_85, word_freq_technology, word_freq_1999, word_freq_parts, word_freq_pm, word_freq_direct, word_freq_cs, word_freq_meeting, word_freq_original, word_freq_project, word_freq_re, word_freq_edu, word_freq_table, word_freq_conference, char_freq_;, char_freq_(, char_freq_[, char_freq_!, char_freq_$, char_freq_#, capital_run_length_average, capital_run_length_longest, capital_run_length_total, label]\n",
       "Index: []\n",
       "\n",
       "[0 rows x 58 columns]"
      ]
     },
     "execution_count": 67,
     "metadata": {},
     "output_type": "execute_result"
    }
   ],
   "source": [
    "sample_incomplete_rows = spam_data[spam_data.isnull().any(axis=1)]\n",
    "sample_incomplete_rows\n",
    "# We have no NaN Values"
   ]
  },
  {
   "cell_type": "code",
   "execution_count": 68,
   "metadata": {},
   "outputs": [],
   "source": [
    "try:\n",
    "    from sklearn.impute import SimpleImputer # Scikit-Learn 0.20+\n",
    "except ImportError:\n",
    "    from sklearn.preprocessing import Imputer as SimpleImputer"
   ]
  },
  {
   "cell_type": "code",
   "execution_count": 69,
   "metadata": {},
   "outputs": [
    {
     "data": {
      "text/plain": [
       "array([[-0.35849294, -0.1663156 , -0.56145245, ..., -0.108199  ,\n",
       "        -0.21450276, -0.43523962],\n",
       "       [-0.08676893, -0.03497293, -0.22384706, ..., -0.09401246,\n",
       "         0.0181882 ,  0.26082846],\n",
       "       [-0.35849294, -0.1663156 ,  3.11248864, ..., -0.13164114,\n",
       "        -0.23389368, -0.4540986 ],\n",
       "       ...,\n",
       "       [-0.35849294, -0.1663156 ,  0.94784226, ..., -0.10278306,\n",
       "        -0.16602548, -0.05977432],\n",
       "       [-0.35849294, -0.1663156 ,  1.16629282, ..., -0.13673374,\n",
       "        -0.20480731, -0.01176963],\n",
       "       [-0.35849294, -0.1663156 , -0.56145245, ..., -0.15686164,\n",
       "        -0.24358913, -0.43181071]])"
      ]
     },
     "execution_count": 69,
     "metadata": {},
     "output_type": "execute_result"
    }
   ],
   "source": [
    "##################################\n",
    "# DATA CLEANING & FEATURE SCALING#\n",
    "# ################################\n",
    "from sklearn.pipeline import Pipeline\n",
    "from sklearn.preprocessing import StandardScaler\n",
    "# Permission granted to use std_scaler \n",
    "num_pipeline = Pipeline([\n",
    "        ('imputer', SimpleImputer(strategy=\"median\")),\n",
    "        ('std_scaler', StandardScaler()),\n",
    "    ])\n",
    "X_train = num_pipeline.fit_transform(spam_param_train)\n",
    "X_test = num_pipeline.transform(spam_param_test)\n",
    "X_train"
   ]
  },
  {
   "cell_type": "markdown",
   "metadata": {
    "colab_type": "text",
    "id": "b_aV2q47DOdT"
   },
   "source": [
    "- - -\n",
    "## 2. TRAINING LINEAR SVM FOR SPAM CLASSIFICATION (15 pts)\n",
    "\n",
    "Train your linear SVM classifier on the training data, and then test the classifier on the test data. You may use the default **loss function** (=\"hinge\") and **default** value of the C hyperparameter (=1.0):\n",
    "\n",
    "* Report (1) accuracy, (2) precision, (3) recall, and (4) F-score on the test data\n",
    "* Create an ROC curve, using 100 evenly spaced thresholds, for this SVM. You may use library function calls to create the ROC curve.\n",
    "\n",
    "**Implementation Notes:** For SVM, you do NOT need to add a column of 1's to the $\\mathbf{x}$ matrix to have an intercept term\n",
    "\n"
   ]
  },
  {
   "cell_type": "code",
   "execution_count": 91,
   "metadata": {
    "colab": {},
    "colab_type": "code",
    "id": "px1aGI12DOdV"
   },
   "outputs": [
    {
     "name": "stdout",
     "output_type": "stream",
     "text": [
      "Accuracy:  0.9272529858849077\n",
      "Precision:  0.9289940828402367\n",
      "Recall:  0.8795518207282913\n",
      "F-1:  0.9035971223021583\n"
     ]
    },
    {
     "data": {
      "image/png": "[encoded data removed]",
      "text/plain": [
       "<Figure size 432x288 with 1 Axes>"
      ]
     },
     "metadata": {
      "needs_background": "light"
     },
     "output_type": "display_data"
    }
   ],
   "source": [
    "from sklearn.svm import LinearSVC\n",
    "from sklearn.metrics import accuracy_score, precision_score, recall_score, f1_score\n",
    "\n",
    "\n",
    "# Training your svm here\n",
    "svm_clf = LinearSVC(C=1.0, loss=\"hinge\", random_state=42, tol=1)\n",
    "svm_clf.fit(X_train, np.ravel(Y_train))\n",
    "\n",
    "# # Testing your svm here\n",
    "from sklearn.metrics import precision_score, recall_score\n",
    "from sklearn.metrics import roc_curve\n",
    "\n",
    "prediction = svm_clf.predict(X_test)\n",
    "# fpr, tpr, thresholds = roc_curve(prediction, Y_train)\n",
    "fpr, tpr, thresholds = roc_curve(Y_test, prediction)\n",
    "\n",
    "print(\"Accuracy: \", accuracy_score(Y_test, prediction))\n",
    "print(\"Precision: \",precision_score(Y_test, prediction))\n",
    "print(\"Recall: \", recall_score(Y_test, prediction))\n",
    "print(\"F-1: \", f1_score(Y_test, prediction))\n",
    "\n",
    "\n",
    "plt.figure()\n",
    "plt.plot(fpr, tpr, color='darkorange', lw=1, label='label')\n",
    "plt.plot([0, 1], [0, 1],'k--', color='navy')\n",
    "plt.xlim([0.0, 1.0])\n",
    "plt.ylim([0.0, 1.05])\n",
    "plt.xlabel('False Positive Rate')\n",
    "plt.ylabel('True Positive Rate')\n",
    "plt.title('Receiver operating characteristic')\n",
    "plt.legend(loc=\"lower right\")\n",
    "plt.show()\n"
   ]
  },
  {
   "cell_type": "markdown",
   "metadata": {
    "colab_type": "text",
    "id": "xuP0zJxuDOdY"
   },
   "source": [
    "- - -\n",
    "## 3. TUNING REGULARIZATION HYPER-PARAMETER C (15 pts)\n",
    "Next, you will study the SVM tradeoff between margin and data violation by using different values of the C hyper-parameter. Your task is to run an experiment with different values of C on the spam dataset and report the performance measures similar to section 2. After running the experiment, you must provide some justifications on the reason you select a certain value of C. \n",
    "\n",
    "Hint: you can use cross validation for each value of C and then pick the value which yields the best performance."
   ]
  },
  {
   "cell_type": "code",
   "execution_count": 94,
   "metadata": {
    "colab": {},
    "colab_type": "code",
    "id": "zVGo0vStDOdZ"
   },
   "outputs": [
    {
     "name": "stderr",
     "output_type": "stream",
     "text": [
      "[Parallel(n_jobs=1)]: Using backend SequentialBackend with 1 concurrent workers.\n",
      "/Library/Frameworks/Python.framework/Versions/3.7/lib/python3.7/site-packages/sklearn/utils/validation.py:761: DataConversionWarning: A column-vector y was passed when a 1d array was expected. Please change the shape of y to (n_samples, ), for example using ravel().\n",
      "  y = column_or_1d(y, warn=True)\n"
     ]
    },
    {
     "name": "stdout",
     "output_type": "stream",
     "text": [
      "Fitting 3 folds for each of 10 candidates, totalling 30 fits\n",
      "[CV] C=91.34725887307894 .............................................\n"
     ]
    },
    {
     "name": "stderr",
     "output_type": "stream",
     "text": [
      "/Library/Frameworks/Python.framework/Versions/3.7/lib/python3.7/site-packages/sklearn/svm/base.py:931: ConvergenceWarning: Liblinear failed to converge, increase the number of iterations.\n",
      "  \"the number of iterations.\", ConvergenceWarning)\n",
      "[Parallel(n_jobs=1)]: Done   1 out of   1 | elapsed:    0.6s remaining:    0.0s\n",
      "/Library/Frameworks/Python.framework/Versions/3.7/lib/python3.7/site-packages/sklearn/utils/validation.py:761: DataConversionWarning: A column-vector y was passed when a 1d array was expected. Please change the shape of y to (n_samples, ), for example using ravel().\n",
      "  y = column_or_1d(y, warn=True)\n"
     ]
    },
    {
     "name": "stdout",
     "output_type": "stream",
     "text": [
      "[CV] .............................. C=91.34725887307894, total=   0.6s\n",
      "[CV] C=91.34725887307894 .............................................\n"
     ]
    },
    {
     "name": "stderr",
     "output_type": "stream",
     "text": [
      "/Library/Frameworks/Python.framework/Versions/3.7/lib/python3.7/site-packages/sklearn/svm/base.py:931: ConvergenceWarning: Liblinear failed to converge, increase the number of iterations.\n",
      "  \"the number of iterations.\", ConvergenceWarning)\n",
      "/Library/Frameworks/Python.framework/Versions/3.7/lib/python3.7/site-packages/sklearn/utils/validation.py:761: DataConversionWarning: A column-vector y was passed when a 1d array was expected. Please change the shape of y to (n_samples, ), for example using ravel().\n",
      "  y = column_or_1d(y, warn=True)\n"
     ]
    },
    {
     "name": "stdout",
     "output_type": "stream",
     "text": [
      "[CV] .............................. C=91.34725887307894, total=   0.6s\n",
      "[CV] C=91.34725887307894 .............................................\n"
     ]
    },
    {
     "name": "stderr",
     "output_type": "stream",
     "text": [
      "/Library/Frameworks/Python.framework/Versions/3.7/lib/python3.7/site-packages/sklearn/svm/base.py:931: ConvergenceWarning: Liblinear failed to converge, increase the number of iterations.\n",
      "  \"the number of iterations.\", ConvergenceWarning)\n",
      "/Library/Frameworks/Python.framework/Versions/3.7/lib/python3.7/site-packages/sklearn/utils/validation.py:761: DataConversionWarning: A column-vector y was passed when a 1d array was expected. Please change the shape of y to (n_samples, ), for example using ravel().\n",
      "  y = column_or_1d(y, warn=True)\n"
     ]
    },
    {
     "name": "stdout",
     "output_type": "stream",
     "text": [
      "[CV] .............................. C=91.34725887307894, total=   0.8s\n",
      "[CV] C=41.33192402826725 .............................................\n"
     ]
    },
    {
     "name": "stderr",
     "output_type": "stream",
     "text": [
      "/Library/Frameworks/Python.framework/Versions/3.7/lib/python3.7/site-packages/sklearn/svm/base.py:931: ConvergenceWarning: Liblinear failed to converge, increase the number of iterations.\n",
      "  \"the number of iterations.\", ConvergenceWarning)\n",
      "/Library/Frameworks/Python.framework/Versions/3.7/lib/python3.7/site-packages/sklearn/utils/validation.py:761: DataConversionWarning: A column-vector y was passed when a 1d array was expected. Please change the shape of y to (n_samples, ), for example using ravel().\n",
      "  y = column_or_1d(y, warn=True)\n"
     ]
    },
    {
     "name": "stdout",
     "output_type": "stream",
     "text": [
      "[CV] .............................. C=41.33192402826725, total=   0.4s\n",
      "[CV] C=41.33192402826725 .............................................\n"
     ]
    },
    {
     "name": "stderr",
     "output_type": "stream",
     "text": [
      "/Library/Frameworks/Python.framework/Versions/3.7/lib/python3.7/site-packages/sklearn/svm/base.py:931: ConvergenceWarning: Liblinear failed to converge, increase the number of iterations.\n",
      "  \"the number of iterations.\", ConvergenceWarning)\n",
      "/Library/Frameworks/Python.framework/Versions/3.7/lib/python3.7/site-packages/sklearn/utils/validation.py:761: DataConversionWarning: A column-vector y was passed when a 1d array was expected. Please change the shape of y to (n_samples, ), for example using ravel().\n",
      "  y = column_or_1d(y, warn=True)\n"
     ]
    },
    {
     "name": "stdout",
     "output_type": "stream",
     "text": [
      "[CV] .............................. C=41.33192402826725, total=   0.5s\n",
      "[CV] C=41.33192402826725 .............................................\n"
     ]
    },
    {
     "name": "stderr",
     "output_type": "stream",
     "text": [
      "/Library/Frameworks/Python.framework/Versions/3.7/lib/python3.7/site-packages/sklearn/svm/base.py:931: ConvergenceWarning: Liblinear failed to converge, increase the number of iterations.\n",
      "  \"the number of iterations.\", ConvergenceWarning)\n",
      "/Library/Frameworks/Python.framework/Versions/3.7/lib/python3.7/site-packages/sklearn/utils/validation.py:761: DataConversionWarning: A column-vector y was passed when a 1d array was expected. Please change the shape of y to (n_samples, ), for example using ravel().\n",
      "  y = column_or_1d(y, warn=True)\n"
     ]
    },
    {
     "name": "stdout",
     "output_type": "stream",
     "text": [
      "[CV] .............................. C=41.33192402826725, total=   0.6s\n",
      "[CV] C=81.12184738969114 .............................................\n"
     ]
    },
    {
     "name": "stderr",
     "output_type": "stream",
     "text": [
      "/Library/Frameworks/Python.framework/Versions/3.7/lib/python3.7/site-packages/sklearn/svm/base.py:931: ConvergenceWarning: Liblinear failed to converge, increase the number of iterations.\n",
      "  \"the number of iterations.\", ConvergenceWarning)\n",
      "/Library/Frameworks/Python.framework/Versions/3.7/lib/python3.7/site-packages/sklearn/utils/validation.py:761: DataConversionWarning: A column-vector y was passed when a 1d array was expected. Please change the shape of y to (n_samples, ), for example using ravel().\n",
      "  y = column_or_1d(y, warn=True)\n"
     ]
    },
    {
     "name": "stdout",
     "output_type": "stream",
     "text": [
      "[CV] .............................. C=81.12184738969114, total=   0.5s\n",
      "[CV] C=81.12184738969114 .............................................\n"
     ]
    },
    {
     "name": "stderr",
     "output_type": "stream",
     "text": [
      "/Library/Frameworks/Python.framework/Versions/3.7/lib/python3.7/site-packages/sklearn/svm/base.py:931: ConvergenceWarning: Liblinear failed to converge, increase the number of iterations.\n",
      "  \"the number of iterations.\", ConvergenceWarning)\n",
      "/Library/Frameworks/Python.framework/Versions/3.7/lib/python3.7/site-packages/sklearn/utils/validation.py:761: DataConversionWarning: A column-vector y was passed when a 1d array was expected. Please change the shape of y to (n_samples, ), for example using ravel().\n",
      "  y = column_or_1d(y, warn=True)\n"
     ]
    },
    {
     "name": "stdout",
     "output_type": "stream",
     "text": [
      "[CV] .............................. C=81.12184738969114, total=   0.8s\n",
      "[CV] C=81.12184738969114 .............................................\n"
     ]
    },
    {
     "name": "stderr",
     "output_type": "stream",
     "text": [
      "/Library/Frameworks/Python.framework/Versions/3.7/lib/python3.7/site-packages/sklearn/svm/base.py:931: ConvergenceWarning: Liblinear failed to converge, increase the number of iterations.\n",
      "  \"the number of iterations.\", ConvergenceWarning)\n",
      "/Library/Frameworks/Python.framework/Versions/3.7/lib/python3.7/site-packages/sklearn/utils/validation.py:761: DataConversionWarning: A column-vector y was passed when a 1d array was expected. Please change the shape of y to (n_samples, ), for example using ravel().\n",
      "  y = column_or_1d(y, warn=True)\n"
     ]
    },
    {
     "name": "stdout",
     "output_type": "stream",
     "text": [
      "[CV] .............................. C=81.12184738969114, total=   0.6s\n",
      "[CV] C=90.90421781018776 .............................................\n"
     ]
    },
    {
     "name": "stderr",
     "output_type": "stream",
     "text": [
      "/Library/Frameworks/Python.framework/Versions/3.7/lib/python3.7/site-packages/sklearn/svm/base.py:931: ConvergenceWarning: Liblinear failed to converge, increase the number of iterations.\n",
      "  \"the number of iterations.\", ConvergenceWarning)\n",
      "/Library/Frameworks/Python.framework/Versions/3.7/lib/python3.7/site-packages/sklearn/utils/validation.py:761: DataConversionWarning: A column-vector y was passed when a 1d array was expected. Please change the shape of y to (n_samples, ), for example using ravel().\n",
      "  y = column_or_1d(y, warn=True)\n"
     ]
    },
    {
     "name": "stdout",
     "output_type": "stream",
     "text": [
      "[CV] .............................. C=90.90421781018776, total=   0.7s\n",
      "[CV] C=90.90421781018776 .............................................\n"
     ]
    },
    {
     "name": "stderr",
     "output_type": "stream",
     "text": [
      "/Library/Frameworks/Python.framework/Versions/3.7/lib/python3.7/site-packages/sklearn/svm/base.py:931: ConvergenceWarning: Liblinear failed to converge, increase the number of iterations.\n",
      "  \"the number of iterations.\", ConvergenceWarning)\n",
      "/Library/Frameworks/Python.framework/Versions/3.7/lib/python3.7/site-packages/sklearn/utils/validation.py:761: DataConversionWarning: A column-vector y was passed when a 1d array was expected. Please change the shape of y to (n_samples, ), for example using ravel().\n",
      "  y = column_or_1d(y, warn=True)\n"
     ]
    },
    {
     "name": "stdout",
     "output_type": "stream",
     "text": [
      "[CV] .............................. C=90.90421781018776, total=   0.7s\n",
      "[CV] C=90.90421781018776 .............................................\n"
     ]
    },
    {
     "name": "stderr",
     "output_type": "stream",
     "text": [
      "/Library/Frameworks/Python.framework/Versions/3.7/lib/python3.7/site-packages/sklearn/svm/base.py:931: ConvergenceWarning: Liblinear failed to converge, increase the number of iterations.\n",
      "  \"the number of iterations.\", ConvergenceWarning)\n",
      "/Library/Frameworks/Python.framework/Versions/3.7/lib/python3.7/site-packages/sklearn/utils/validation.py:761: DataConversionWarning: A column-vector y was passed when a 1d array was expected. Please change the shape of y to (n_samples, ), for example using ravel().\n",
      "  y = column_or_1d(y, warn=True)\n"
     ]
    },
    {
     "name": "stdout",
     "output_type": "stream",
     "text": [
      "[CV] .............................. C=90.90421781018776, total=   0.6s\n",
      "[CV] C=18.128163072549764 ............................................\n"
     ]
    },
    {
     "name": "stderr",
     "output_type": "stream",
     "text": [
      "/Library/Frameworks/Python.framework/Versions/3.7/lib/python3.7/site-packages/sklearn/svm/base.py:931: ConvergenceWarning: Liblinear failed to converge, increase the number of iterations.\n",
      "  \"the number of iterations.\", ConvergenceWarning)\n",
      "/Library/Frameworks/Python.framework/Versions/3.7/lib/python3.7/site-packages/sklearn/utils/validation.py:761: DataConversionWarning: A column-vector y was passed when a 1d array was expected. Please change the shape of y to (n_samples, ), for example using ravel().\n",
      "  y = column_or_1d(y, warn=True)\n"
     ]
    },
    {
     "name": "stdout",
     "output_type": "stream",
     "text": [
      "[CV] ............................. C=18.128163072549764, total=   0.5s\n",
      "[CV] C=18.128163072549764 ............................................\n"
     ]
    },
    {
     "name": "stderr",
     "output_type": "stream",
     "text": [
      "/Library/Frameworks/Python.framework/Versions/3.7/lib/python3.7/site-packages/sklearn/svm/base.py:931: ConvergenceWarning: Liblinear failed to converge, increase the number of iterations.\n",
      "  \"the number of iterations.\", ConvergenceWarning)\n",
      "/Library/Frameworks/Python.framework/Versions/3.7/lib/python3.7/site-packages/sklearn/utils/validation.py:761: DataConversionWarning: A column-vector y was passed when a 1d array was expected. Please change the shape of y to (n_samples, ), for example using ravel().\n",
      "  y = column_or_1d(y, warn=True)\n"
     ]
    },
    {
     "name": "stdout",
     "output_type": "stream",
     "text": [
      "[CV] ............................. C=18.128163072549764, total=   0.8s\n",
      "[CV] C=18.128163072549764 ............................................\n"
     ]
    },
    {
     "name": "stderr",
     "output_type": "stream",
     "text": [
      "/Library/Frameworks/Python.framework/Versions/3.7/lib/python3.7/site-packages/sklearn/svm/base.py:931: ConvergenceWarning: Liblinear failed to converge, increase the number of iterations.\n",
      "  \"the number of iterations.\", ConvergenceWarning)\n",
      "/Library/Frameworks/Python.framework/Versions/3.7/lib/python3.7/site-packages/sklearn/utils/validation.py:761: DataConversionWarning: A column-vector y was passed when a 1d array was expected. Please change the shape of y to (n_samples, ), for example using ravel().\n",
      "  y = column_or_1d(y, warn=True)\n"
     ]
    },
    {
     "name": "stdout",
     "output_type": "stream",
     "text": [
      "[CV] ............................. C=18.128163072549764, total=   0.5s\n",
      "[CV] C=70.86853755292378 .............................................\n"
     ]
    },
    {
     "name": "stderr",
     "output_type": "stream",
     "text": [
      "/Library/Frameworks/Python.framework/Versions/3.7/lib/python3.7/site-packages/sklearn/svm/base.py:931: ConvergenceWarning: Liblinear failed to converge, increase the number of iterations.\n",
      "  \"the number of iterations.\", ConvergenceWarning)\n",
      "/Library/Frameworks/Python.framework/Versions/3.7/lib/python3.7/site-packages/sklearn/utils/validation.py:761: DataConversionWarning: A column-vector y was passed when a 1d array was expected. Please change the shape of y to (n_samples, ), for example using ravel().\n",
      "  y = column_or_1d(y, warn=True)\n"
     ]
    },
    {
     "name": "stdout",
     "output_type": "stream",
     "text": [
      "[CV] .............................. C=70.86853755292378, total=   0.8s\n",
      "[CV] C=70.86853755292378 .............................................\n"
     ]
    },
    {
     "name": "stderr",
     "output_type": "stream",
     "text": [
      "/Library/Frameworks/Python.framework/Versions/3.7/lib/python3.7/site-packages/sklearn/svm/base.py:931: ConvergenceWarning: Liblinear failed to converge, increase the number of iterations.\n",
      "  \"the number of iterations.\", ConvergenceWarning)\n",
      "/Library/Frameworks/Python.framework/Versions/3.7/lib/python3.7/site-packages/sklearn/utils/validation.py:761: DataConversionWarning: A column-vector y was passed when a 1d array was expected. Please change the shape of y to (n_samples, ), for example using ravel().\n",
      "  y = column_or_1d(y, warn=True)\n"
     ]
    },
    {
     "name": "stdout",
     "output_type": "stream",
     "text": [
      "[CV] .............................. C=70.86853755292378, total=   0.8s\n",
      "[CV] C=70.86853755292378 .............................................\n"
     ]
    },
    {
     "name": "stderr",
     "output_type": "stream",
     "text": [
      "/Library/Frameworks/Python.framework/Versions/3.7/lib/python3.7/site-packages/sklearn/svm/base.py:931: ConvergenceWarning: Liblinear failed to converge, increase the number of iterations.\n",
      "  \"the number of iterations.\", ConvergenceWarning)\n",
      "/Library/Frameworks/Python.framework/Versions/3.7/lib/python3.7/site-packages/sklearn/utils/validation.py:761: DataConversionWarning: A column-vector y was passed when a 1d array was expected. Please change the shape of y to (n_samples, ), for example using ravel().\n",
      "  y = column_or_1d(y, warn=True)\n"
     ]
    },
    {
     "name": "stdout",
     "output_type": "stream",
     "text": [
      "[CV] .............................. C=70.86853755292378, total=   0.9s\n",
      "[CV] C=13.769474651816983 ............................................\n"
     ]
    },
    {
     "name": "stderr",
     "output_type": "stream",
     "text": [
      "/Library/Frameworks/Python.framework/Versions/3.7/lib/python3.7/site-packages/sklearn/svm/base.py:931: ConvergenceWarning: Liblinear failed to converge, increase the number of iterations.\n",
      "  \"the number of iterations.\", ConvergenceWarning)\n",
      "/Library/Frameworks/Python.framework/Versions/3.7/lib/python3.7/site-packages/sklearn/utils/validation.py:761: DataConversionWarning: A column-vector y was passed when a 1d array was expected. Please change the shape of y to (n_samples, ), for example using ravel().\n",
      "  y = column_or_1d(y, warn=True)\n"
     ]
    },
    {
     "name": "stdout",
     "output_type": "stream",
     "text": [
      "[CV] ............................. C=13.769474651816983, total=   0.4s\n",
      "[CV] C=13.769474651816983 ............................................\n"
     ]
    },
    {
     "name": "stderr",
     "output_type": "stream",
     "text": [
      "/Library/Frameworks/Python.framework/Versions/3.7/lib/python3.7/site-packages/sklearn/svm/base.py:931: ConvergenceWarning: Liblinear failed to converge, increase the number of iterations.\n",
      "  \"the number of iterations.\", ConvergenceWarning)\n",
      "/Library/Frameworks/Python.framework/Versions/3.7/lib/python3.7/site-packages/sklearn/utils/validation.py:761: DataConversionWarning: A column-vector y was passed when a 1d array was expected. Please change the shape of y to (n_samples, ), for example using ravel().\n",
      "  y = column_or_1d(y, warn=True)\n"
     ]
    },
    {
     "name": "stdout",
     "output_type": "stream",
     "text": [
      "[CV] ............................. C=13.769474651816983, total=   0.5s\n",
      "[CV] C=13.769474651816983 ............................................\n"
     ]
    },
    {
     "name": "stderr",
     "output_type": "stream",
     "text": [
      "/Library/Frameworks/Python.framework/Versions/3.7/lib/python3.7/site-packages/sklearn/svm/base.py:931: ConvergenceWarning: Liblinear failed to converge, increase the number of iterations.\n",
      "  \"the number of iterations.\", ConvergenceWarning)\n",
      "/Library/Frameworks/Python.framework/Versions/3.7/lib/python3.7/site-packages/sklearn/utils/validation.py:761: DataConversionWarning: A column-vector y was passed when a 1d array was expected. Please change the shape of y to (n_samples, ), for example using ravel().\n",
      "  y = column_or_1d(y, warn=True)\n"
     ]
    },
    {
     "name": "stdout",
     "output_type": "stream",
     "text": [
      "[CV] ............................. C=13.769474651816983, total=   0.4s\n",
      "[CV] C=99.14628040291439 .............................................\n"
     ]
    },
    {
     "name": "stderr",
     "output_type": "stream",
     "text": [
      "/Library/Frameworks/Python.framework/Versions/3.7/lib/python3.7/site-packages/sklearn/svm/base.py:931: ConvergenceWarning: Liblinear failed to converge, increase the number of iterations.\n",
      "  \"the number of iterations.\", ConvergenceWarning)\n",
      "/Library/Frameworks/Python.framework/Versions/3.7/lib/python3.7/site-packages/sklearn/utils/validation.py:761: DataConversionWarning: A column-vector y was passed when a 1d array was expected. Please change the shape of y to (n_samples, ), for example using ravel().\n",
      "  y = column_or_1d(y, warn=True)\n"
     ]
    },
    {
     "name": "stdout",
     "output_type": "stream",
     "text": [
      "[CV] .............................. C=99.14628040291439, total=   0.7s\n",
      "[CV] C=99.14628040291439 .............................................\n"
     ]
    },
    {
     "name": "stderr",
     "output_type": "stream",
     "text": [
      "/Library/Frameworks/Python.framework/Versions/3.7/lib/python3.7/site-packages/sklearn/svm/base.py:931: ConvergenceWarning: Liblinear failed to converge, increase the number of iterations.\n",
      "  \"the number of iterations.\", ConvergenceWarning)\n",
      "/Library/Frameworks/Python.framework/Versions/3.7/lib/python3.7/site-packages/sklearn/utils/validation.py:761: DataConversionWarning: A column-vector y was passed when a 1d array was expected. Please change the shape of y to (n_samples, ), for example using ravel().\n",
      "  y = column_or_1d(y, warn=True)\n"
     ]
    },
    {
     "name": "stdout",
     "output_type": "stream",
     "text": [
      "[CV] .............................. C=99.14628040291439, total=   0.6s\n",
      "[CV] C=99.14628040291439 .............................................\n"
     ]
    },
    {
     "name": "stderr",
     "output_type": "stream",
     "text": [
      "/Library/Frameworks/Python.framework/Versions/3.7/lib/python3.7/site-packages/sklearn/svm/base.py:931: ConvergenceWarning: Liblinear failed to converge, increase the number of iterations.\n",
      "  \"the number of iterations.\", ConvergenceWarning)\n",
      "/Library/Frameworks/Python.framework/Versions/3.7/lib/python3.7/site-packages/sklearn/utils/validation.py:761: DataConversionWarning: A column-vector y was passed when a 1d array was expected. Please change the shape of y to (n_samples, ), for example using ravel().\n",
      "  y = column_or_1d(y, warn=True)\n"
     ]
    },
    {
     "name": "stdout",
     "output_type": "stream",
     "text": [
      "[CV] .............................. C=99.14628040291439, total=   0.6s\n",
      "[CV] C=37.54968507505373 .............................................\n"
     ]
    },
    {
     "name": "stderr",
     "output_type": "stream",
     "text": [
      "/Library/Frameworks/Python.framework/Versions/3.7/lib/python3.7/site-packages/sklearn/svm/base.py:931: ConvergenceWarning: Liblinear failed to converge, increase the number of iterations.\n",
      "  \"the number of iterations.\", ConvergenceWarning)\n",
      "/Library/Frameworks/Python.framework/Versions/3.7/lib/python3.7/site-packages/sklearn/utils/validation.py:761: DataConversionWarning: A column-vector y was passed when a 1d array was expected. Please change the shape of y to (n_samples, ), for example using ravel().\n",
      "  y = column_or_1d(y, warn=True)\n"
     ]
    },
    {
     "name": "stdout",
     "output_type": "stream",
     "text": [
      "[CV] .............................. C=37.54968507505373, total=   0.6s\n",
      "[CV] C=37.54968507505373 .............................................\n"
     ]
    },
    {
     "name": "stderr",
     "output_type": "stream",
     "text": [
      "/Library/Frameworks/Python.framework/Versions/3.7/lib/python3.7/site-packages/sklearn/svm/base.py:931: ConvergenceWarning: Liblinear failed to converge, increase the number of iterations.\n",
      "  \"the number of iterations.\", ConvergenceWarning)\n",
      "/Library/Frameworks/Python.framework/Versions/3.7/lib/python3.7/site-packages/sklearn/utils/validation.py:761: DataConversionWarning: A column-vector y was passed when a 1d array was expected. Please change the shape of y to (n_samples, ), for example using ravel().\n",
      "  y = column_or_1d(y, warn=True)\n"
     ]
    },
    {
     "name": "stdout",
     "output_type": "stream",
     "text": [
      "[CV] .............................. C=37.54968507505373, total=   0.5s\n",
      "[CV] C=37.54968507505373 .............................................\n"
     ]
    },
    {
     "name": "stderr",
     "output_type": "stream",
     "text": [
      "/Library/Frameworks/Python.framework/Versions/3.7/lib/python3.7/site-packages/sklearn/svm/base.py:931: ConvergenceWarning: Liblinear failed to converge, increase the number of iterations.\n",
      "  \"the number of iterations.\", ConvergenceWarning)\n",
      "/Library/Frameworks/Python.framework/Versions/3.7/lib/python3.7/site-packages/sklearn/utils/validation.py:761: DataConversionWarning: A column-vector y was passed when a 1d array was expected. Please change the shape of y to (n_samples, ), for example using ravel().\n",
      "  y = column_or_1d(y, warn=True)\n"
     ]
    },
    {
     "name": "stdout",
     "output_type": "stream",
     "text": [
      "[CV] .............................. C=37.54968507505373, total=   0.5s\n",
      "[CV] C=99.1942589715796 ..............................................\n"
     ]
    },
    {
     "name": "stderr",
     "output_type": "stream",
     "text": [
      "/Library/Frameworks/Python.framework/Versions/3.7/lib/python3.7/site-packages/sklearn/svm/base.py:931: ConvergenceWarning: Liblinear failed to converge, increase the number of iterations.\n",
      "  \"the number of iterations.\", ConvergenceWarning)\n",
      "/Library/Frameworks/Python.framework/Versions/3.7/lib/python3.7/site-packages/sklearn/utils/validation.py:761: DataConversionWarning: A column-vector y was passed when a 1d array was expected. Please change the shape of y to (n_samples, ), for example using ravel().\n",
      "  y = column_or_1d(y, warn=True)\n"
     ]
    },
    {
     "name": "stdout",
     "output_type": "stream",
     "text": [
      "[CV] ............................... C=99.1942589715796, total=   0.6s\n",
      "[CV] C=99.1942589715796 ..............................................\n"
     ]
    },
    {
     "name": "stderr",
     "output_type": "stream",
     "text": [
      "/Library/Frameworks/Python.framework/Versions/3.7/lib/python3.7/site-packages/sklearn/svm/base.py:931: ConvergenceWarning: Liblinear failed to converge, increase the number of iterations.\n",
      "  \"the number of iterations.\", ConvergenceWarning)\n",
      "/Library/Frameworks/Python.framework/Versions/3.7/lib/python3.7/site-packages/sklearn/utils/validation.py:761: DataConversionWarning: A column-vector y was passed when a 1d array was expected. Please change the shape of y to (n_samples, ), for example using ravel().\n",
      "  y = column_or_1d(y, warn=True)\n"
     ]
    },
    {
     "name": "stdout",
     "output_type": "stream",
     "text": [
      "[CV] ............................... C=99.1942589715796, total=   0.6s\n",
      "[CV] C=99.1942589715796 ..............................................\n"
     ]
    },
    {
     "name": "stderr",
     "output_type": "stream",
     "text": [
      "/Library/Frameworks/Python.framework/Versions/3.7/lib/python3.7/site-packages/sklearn/svm/base.py:931: ConvergenceWarning: Liblinear failed to converge, increase the number of iterations.\n",
      "  \"the number of iterations.\", ConvergenceWarning)\n",
      "[Parallel(n_jobs=1)]: Done  30 out of  30 | elapsed:   18.4s finished\n",
      "/Library/Frameworks/Python.framework/Versions/3.7/lib/python3.7/site-packages/sklearn/utils/validation.py:761: DataConversionWarning: A column-vector y was passed when a 1d array was expected. Please change the shape of y to (n_samples, ), for example using ravel().\n",
      "  y = column_or_1d(y, warn=True)\n"
     ]
    },
    {
     "name": "stdout",
     "output_type": "stream",
     "text": [
      "[CV] ............................... C=99.1942589715796, total=   0.7s\n"
     ]
    },
    {
     "name": "stderr",
     "output_type": "stream",
     "text": [
      "/Library/Frameworks/Python.framework/Versions/3.7/lib/python3.7/site-packages/sklearn/svm/base.py:931: ConvergenceWarning: Liblinear failed to converge, increase the number of iterations.\n",
      "  \"the number of iterations.\", ConvergenceWarning)\n"
     ]
    },
    {
     "data": {
      "text/plain": [
       "RandomizedSearchCV(cv=3, error_score='raise-deprecating',\n",
       "          estimator=LinearSVC(C=1.0, class_weight=None, dual=True, fit_intercept=True,\n",
       "     intercept_scaling=1, loss='hinge', max_iter=1000, multi_class='ovr',\n",
       "     penalty='l2', random_state=42, tol=1, verbose=0),\n",
       "          fit_params=None, iid='warn', n_iter=10, n_jobs=None,\n",
       "          param_distributions={'C': <scipy.stats._distn_infrastructure.rv_frozen object at 0x123dc62b0>},\n",
       "          pre_dispatch='2*n_jobs', random_state=None, refit=True,\n",
       "          return_train_score='warn', scoring=None, verbose=2)"
      ]
     },
     "execution_count": 94,
     "metadata": {},
     "output_type": "execute_result"
    }
   ],
   "source": [
    "from sklearn.model_selection import RandomizedSearchCV\n",
    "from scipy.stats import reciprocal, uniform\n",
    "scaler = StandardScaler()\n",
    "X_train_scaled = scaler.fit_transform(X_train.astype(np.float32))\n",
    "X_test_scaled = scaler.transform(X_test.astype(np.float32))\n",
    "\n",
    "# param_distributions = {\"gamma\": reciprocal(0.001, 0.1), \"C\": uniform(1, 10)}\n",
    "param_distributions = {\"C\": uniform(.01, 100)}\n",
    "rnd_search_cv = RandomizedSearchCV(svm_clf, param_distributions, n_iter=10, verbose=2, cv=3)\n",
    "rnd_search_cv.fit(X_train_scaled, Y_train)"
   ]
  },
  {
   "cell_type": "code",
   "execution_count": 95,
   "metadata": {},
   "outputs": [
    {
     "data": {
      "text/plain": [
       "LinearSVC(C=18.128163072549764, class_weight=None, dual=True,\n",
       "     fit_intercept=True, intercept_scaling=1, loss='hinge', max_iter=1000,\n",
       "     multi_class='ovr', penalty='l2', random_state=42, tol=1, verbose=0)"
      ]
     },
     "execution_count": 95,
     "metadata": {},
     "output_type": "execute_result"
    }
   ],
   "source": [
    "rnd_search_cv.best_estimator_"
   ]
  },
  {
   "cell_type": "code",
   "execution_count": 97,
   "metadata": {},
   "outputs": [
    {
     "data": {
      "text/plain": [
       "0.9225543478260869"
      ]
     },
     "execution_count": 97,
     "metadata": {},
     "output_type": "execute_result"
    }
   ],
   "source": [
    "rnd_search_cv.best_score_"
   ]
  },
  {
   "cell_type": "markdown",
   "metadata": {
    "colab_type": "text",
    "id": "gVZKVrW_DOdc"
   },
   "source": [
    "- - -\n",
    "## 4. SELECTING THE FEATURES WITH LINEAR SVM (20 pts)\n",
    "\n",
    "Once your learned a best linear SVM in previous sections, your next task is to find which are best features to classify spam. First, you must obtain the weight vector $\\mathbf{w}$ using the attribute $coef_$ of your SVM classifier. Then, for the number of features $n = 2$ to $57$, you will run the following in a loop:\n",
    "\n",
    "* Select a set of top $n$ features that have the highest weights\n",
    "* Train a classifier $\\text{SVM}_n$ on all training data, only using these $n$ features with the same hyperparameter C learn from section 3.\n",
    "* Test $\\text{SVM}_n$ on the test set (using the same $n$ features) to obtain accuracy.\n",
    "* Plot accuracy on test data vs. $n$ number of features\n",
    "\n",
    "Identify the top 5 features. Using the plot, discuss the effects of feature selection on the performance in a short paragraph (ie. How much better the performance becomes everytime one of top 5 features is added? Were the top spam features surprising to you?)  \n",
    "\n"
   ]
  },
  {
   "cell_type": "code",
   "execution_count": 0,
   "metadata": {
    "colab": {},
    "colab_type": "code",
    "id": "dQ5xP9JfDOde"
   },
   "outputs": [],
   "source": [
    "# Your feature selection code goes here\n",
    "\n",
    "\n",
    "# Your paragraph goes here for this section"
   ]
  },
  {
   "cell_type": "markdown",
   "metadata": {
    "colab_type": "text",
    "id": "24MaI6QpDOdh"
   },
   "source": [
    "- - -\n",
    "## 5. KERNELIZING SVM WITH THE GAUSSIAN RBF (30 pts)\n",
    "\n",
    "In this part of the asisgnment, you will be using SVMs to do non-linear classification. In particular, you will be using SVMs with Gaussian kernels on this dataset which is not linearly separable. \n",
    "\n",
    "$\n",
    "    \\mathbf{K}_{RBF}(\\mathbf{x}^{(i)},\\mathbf{x}^{(j)}) = \\exp(-\\gamma ||\\mathbf{x}^{(i)} -\\mathbf{x}^{(j)}||^2).\n",
    "$\n",
    "\n",
    "First, your task is to determine the best regularization $C$ and the spread of the Gaussian kernel $\\gamma$ hyperparameters to use. You can train the SVM on the training set and report the performance in metrics from section 2. By using different values of $C$ and $\\gamma$, you will be able to learn a good non-linear decision boundary that can perform reasonably well for this dataset. \n",
    "\n",
    "Next, you will compare the performance of this kernelized version of SVM and the of linear SVM in Section 3. You will need to plot out the performance in terms of accuracy, precision, and recall, and the ROC curve) for both. How much better does your non-linear SVM classifier perform comparing to a linear SVM? \n",
    "\n",
    "**Implementation Note:** When implementing cross validation to select the best C and $\\gamma$ parameter to use, you need to evaluate the error using cross validation.\n",
    "\n",
    "Finally, write a paragraph reporting on the final performance of your RBF kerneled SVM. Do you think the performance is adequate to be deployed in practice? Justify your reasons.\n",
    "\n",
    "\n"
   ]
  },
  {
   "cell_type": "code",
   "execution_count": 0,
   "metadata": {
    "colab": {},
    "colab_type": "code",
    "id": "j_CpEzmSDOdi"
   },
   "outputs": [],
   "source": [
    "from sklearn.svm import SVC\n",
    "# hyperparams = (gamma1, C1), (gamma1, C2), (gamma2, C1), (gamma2, C2), ...\n",
    "# for gamma, C in hyperparams:\n",
    "#    rbf_kernel_svm_clf = SVC(kernel=\"rbf\", gamma=gamma, C=C))\n",
    "#    rbf_kernel_svm_clf.fit(X_cv, y_cv)\n",
    "#    # Your code to train and find the best value of C and gamma here"
   ]
  },
  {
   "cell_type": "markdown",
   "metadata": {
    "colab_type": "text",
    "id": "0dAOq5_mDOdk"
   },
   "source": [
    "- - - \n",
    "### NEED HELP?"
   ]
  },
  {
   "cell_type": "markdown",
   "metadata": {
    "colab_type": "text",
    "id": "RPjDDoYaDOdk"
   },
   "source": [
    "In case you get stuck in any step in the process, you may find some useful information from:\n",
    "\n",
    " * Consult my [lecture 6](https://drive.google.com/open?id=1CeBhepjDKBaFBq2BZq-zNQs-MC8ll7aL4qAF8TJ24FM) and [lecture 6b](https://drive.google.com/open?id=13BidUAs_c2QdZkf92axt2S748sbnbI9Hgxg-fzb-OuU) and/or the textbook\n",
    " * Talk to the TA, they are available and there to help you during [office hour](https://docs.google.com/document/d/15qB84xjaS-uRJmfKmmQuCz38bLMFaoqdbuRLoZEdOYI/edit#heading=h.72k1pvft525n)\n",
    " * Come talk to me or email me <nn4pj@virginia.edu> with subject starting \"CS4501 Assignment 2:...\".\n",
    "\n",
    "Best of luck and have fun!"
   ]
  },
  {
   "cell_type": "code",
   "execution_count": 0,
   "metadata": {
    "colab": {},
    "colab_type": "code",
    "id": "Uai_6f-jDOdl"
   },
   "outputs": [],
   "source": []
  }
 ],
 "metadata": {
  "colab": {
   "name": "Copy of CS 4501 Assignment 2.ipynb",
   "provenance": [
    {
     "file_id": "1IDqqp1dakuLgyQ-nghrvKuDEuV60Co_2",
     "timestamp": 1551287974067
    }
   ],
   "version": "0.3.2"
  },
  "kernelspec": {
   "display_name": "Python 3",
   "language": "python",
   "name": "python3"
  },
  "language_info": {
   "codemirror_mode": {
    "name": "ipython",
    "version": 3
   },
   "file_extension": ".py",
   "mimetype": "text/x-python",
   "name": "python",
   "nbconvert_exporter": "python",
   "pygments_lexer": "ipython3",
   "version": "3.7.1"
  }
 },
 "nbformat": 4,
 "nbformat_minor": 1
}
